{
 "cells": [
  {
   "cell_type": "markdown",
   "id": "27a95128",
   "metadata": {},
   "source": [
    "# QuTiP example: Quantum Gates and their usage"
   ]
  },
  {
   "cell_type": "markdown",
   "id": "d4201ebd",
   "metadata": {},
   "source": [
    "Author: Anubhav Vardhan (anubhavvardhan@gmail.com)\n",
    "\n",
    "User-defined gate added by: Boxi Li (etamin1201@gmail.com)\n",
    "\n",
    "For more information about QuTiP see [http://qutip.org](http://qutip.org)\n",
    "\n",
    "#### Installation: \n",
    "The circuit image visualization requires LaTeX and [ImageMagick](https://imagemagick.org/index.php) for display. The module automatically process the LaTeX code for plotting the circuit, generate the pdf and convert it to the png format.\n",
    "On Mac and Linux, ImageMagick can be easily installed with the command `conda install imagemagick` if you have conda installed.\n",
    "Otherwise, please follow the installation instructions on the ImageMagick documentation.\n",
    "\n",
    "On windows, you need to download and install ImageMagick installer. In addition, you also need [perl](https://www.perl.org/get.html) (for pdfcrop) and [Ghostscript](https://ghostscript.com/releases/index.html) (additional dependency of ImageMagick for png conversion).\n",
    "\n",
    "To test if the installation is complete, try the following three commands working correctly in Command Prompt: `pdflatex`, `pdfcrop` and `magick anypdf.pdf antpdf.png`, where `anypdf.pdf` is any pdf file you have."
   ]
  },
  {
   "cell_type": "code",
   "execution_count": null,
   "id": "0f098781",
   "metadata": {},
   "outputs": [],
   "source": [
    "import numpy as np\n",
    "from numpy import pi\n",
    "from qutip import Qobj, about\n",
    "from qutip_qip.circuit import QubitCircuit\n",
    "from qutip_qip.operations import (Gate, berkeley, cnot, cphase, csign, fredkin,\n",
    "                                  gate_sequence_product, globalphase, iswap,\n",
    "                                  molmer_sorensen, phasegate, qrot, rx, ry, rz,\n",
    "                                  snot, sqrtiswap, sqrtnot, sqrtswap, swap,\n",
    "                                  swapalpha, toffoli)\n",
    "\n",
    "%matplotlib inline"
   ]
  },
  {
   "cell_type": "markdown",
   "id": "d35efd43",
   "metadata": {},
   "source": [
    "## Introduction"
   ]
  },
  {
   "cell_type": "markdown",
   "id": "cc661fb3",
   "metadata": {},
   "source": [
    "http://en.wikipedia.org/wiki/Quantum_gate\n"
   ]
  },
  {
   "cell_type": "markdown",
   "id": "5ae86268",
   "metadata": {},
   "source": [
    "## Gates in QuTiP and their representation"
   ]
  },
  {
   "cell_type": "markdown",
   "id": "533d8337",
   "metadata": {},
   "source": [
    "### Controlled-PHASE"
   ]
  },
  {
   "cell_type": "code",
   "execution_count": null,
   "id": "a369f2f2",
   "metadata": {},
   "outputs": [],
   "source": [
    "cphase(pi / 2)"
   ]
  },
  {
   "cell_type": "code",
   "execution_count": null,
   "id": "cac83d0d",
   "metadata": {},
   "outputs": [],
   "source": [
    "q = QubitCircuit(2, reverse_states=False)\n",
    "q.add_gate(\"CSIGN\", controls=[0], targets=[1])\n",
    "q.png"
   ]
  },
  {
   "cell_type": "markdown",
   "id": "e39863b3",
   "metadata": {},
   "source": [
    "### Rotation about X-axis"
   ]
  },
  {
   "cell_type": "code",
   "execution_count": null,
   "id": "654fb5eb",
   "metadata": {},
   "outputs": [],
   "source": [
    "rx(pi / 2)"
   ]
  },
  {
   "cell_type": "code",
   "execution_count": null,
   "id": "cbf1d72d",
   "metadata": {},
   "outputs": [],
   "source": [
    "q = QubitCircuit(1, reverse_states=False)\n",
    "q.add_gate(\"RX\", targets=[0], arg_value=pi / 2, arg_label=r\"\\frac{\\pi}{2}\")\n",
    "q.png"
   ]
  },
  {
   "cell_type": "markdown",
   "id": "1f2d5276",
   "metadata": {},
   "source": [
    "### Rotation about Y-axis"
   ]
  },
  {
   "cell_type": "code",
   "execution_count": null,
   "id": "0bd331b2",
   "metadata": {},
   "outputs": [],
   "source": [
    "ry(pi / 2)"
   ]
  },
  {
   "cell_type": "code",
   "execution_count": null,
   "id": "4afef613",
   "metadata": {},
   "outputs": [],
   "source": [
    "q = QubitCircuit(1, reverse_states=False)\n",
    "q.add_gate(\"RY\", targets=[0], arg_value=pi / 2, arg_label=r\"\\frac{\\pi}{2}\")\n",
    "q.png"
   ]
  },
  {
   "cell_type": "markdown",
   "id": "1e1b46a1",
   "metadata": {},
   "source": [
    "### Rotation about Z-axis"
   ]
  },
  {
   "cell_type": "code",
   "execution_count": null,
   "id": "0f907f0d",
   "metadata": {},
   "outputs": [],
   "source": [
    "rz(pi / 2)"
   ]
  },
  {
   "cell_type": "code",
   "execution_count": null,
   "id": "62deffbd",
   "metadata": {},
   "outputs": [],
   "source": [
    "q = QubitCircuit(1, reverse_states=False)\n",
    "q.add_gate(\"RZ\", targets=[0], arg_value=pi / 2, arg_label=r\"\\frac{\\pi}{2}\")\n",
    "q.png"
   ]
  },
  {
   "cell_type": "markdown",
   "id": "23107234",
   "metadata": {},
   "source": [
    "### CNOT"
   ]
  },
  {
   "cell_type": "code",
   "execution_count": null,
   "id": "c36c7301",
   "metadata": {},
   "outputs": [],
   "source": [
    "cnot()"
   ]
  },
  {
   "cell_type": "code",
   "execution_count": null,
   "id": "4112104e",
   "metadata": {},
   "outputs": [],
   "source": [
    "q = QubitCircuit(2, reverse_states=False)\n",
    "q.add_gate(\"CNOT\", controls=[0], targets=[1])\n",
    "q.png"
   ]
  },
  {
   "cell_type": "markdown",
   "id": "1dd9c7d4",
   "metadata": {},
   "source": [
    "### CSIGN"
   ]
  },
  {
   "cell_type": "code",
   "execution_count": null,
   "id": "b9eac9bb",
   "metadata": {},
   "outputs": [],
   "source": [
    "csign()"
   ]
  },
  {
   "cell_type": "code",
   "execution_count": null,
   "id": "833d6e31",
   "metadata": {},
   "outputs": [],
   "source": [
    "q = QubitCircuit(2, reverse_states=False)\n",
    "q.add_gate(\"CSIGN\", controls=[0], targets=[1])\n",
    "q.png"
   ]
  },
  {
   "cell_type": "markdown",
   "id": "69a7471c",
   "metadata": {},
   "source": [
    "### Berkeley"
   ]
  },
  {
   "cell_type": "code",
   "execution_count": null,
   "id": "799a37ee",
   "metadata": {},
   "outputs": [],
   "source": [
    "berkeley()"
   ]
  },
  {
   "cell_type": "code",
   "execution_count": null,
   "id": "bcb38f18",
   "metadata": {},
   "outputs": [],
   "source": [
    "q = QubitCircuit(2, reverse_states=False)\n",
    "q.add_gate(\"BERKELEY\", targets=[0, 1])\n",
    "q.png"
   ]
  },
  {
   "cell_type": "markdown",
   "id": "78652f7f",
   "metadata": {},
   "source": [
    "### SWAPalpha"
   ]
  },
  {
   "cell_type": "code",
   "execution_count": null,
   "id": "ce4b482d",
   "metadata": {},
   "outputs": [],
   "source": [
    "swapalpha(pi / 2)"
   ]
  },
  {
   "cell_type": "markdown",
   "id": "c9660590",
   "metadata": {},
   "source": [
    "### FREDKIN"
   ]
  },
  {
   "cell_type": "code",
   "execution_count": null,
   "id": "0ceb0207",
   "metadata": {},
   "outputs": [],
   "source": [
    "fredkin()"
   ]
  },
  {
   "cell_type": "markdown",
   "id": "56286103",
   "metadata": {},
   "source": [
    "### TOFFOLI"
   ]
  },
  {
   "cell_type": "code",
   "execution_count": null,
   "id": "0fe6bb3d",
   "metadata": {},
   "outputs": [],
   "source": [
    "toffoli()"
   ]
  },
  {
   "cell_type": "markdown",
   "id": "dd078b7e",
   "metadata": {},
   "source": [
    "### SWAP"
   ]
  },
  {
   "cell_type": "code",
   "execution_count": null,
   "id": "aee5b27d",
   "metadata": {},
   "outputs": [],
   "source": [
    "swap()\n",
    "q = QubitCircuit(2, reverse_states=False)\n",
    "q.add_gate(\"SWAP\", targets=[0, 1])\n",
    "q.png"
   ]
  },
  {
   "cell_type": "markdown",
   "id": "34f2bca2",
   "metadata": {},
   "source": [
    "### ISWAP"
   ]
  },
  {
   "cell_type": "code",
   "execution_count": null,
   "id": "f91c7be4",
   "metadata": {},
   "outputs": [],
   "source": [
    "iswap()\n",
    "q = QubitCircuit(2, reverse_states=False)\n",
    "q.add_gate(\"ISWAP\", targets=[0, 1])\n",
    "q.png"
   ]
  },
  {
   "cell_type": "markdown",
   "id": "1a84246d",
   "metadata": {},
   "source": [
    "### SQRTiSWAP"
   ]
  },
  {
   "cell_type": "code",
   "execution_count": null,
   "id": "10b1b44b",
   "metadata": {},
   "outputs": [],
   "source": [
    "sqrtiswap()"
   ]
  },
  {
   "cell_type": "markdown",
   "id": "640a0f36",
   "metadata": {},
   "source": [
    "### SQRTSWAP"
   ]
  },
  {
   "cell_type": "code",
   "execution_count": null,
   "id": "06cb2139",
   "metadata": {},
   "outputs": [],
   "source": [
    "sqrtswap()"
   ]
  },
  {
   "cell_type": "markdown",
   "id": "30f956c2",
   "metadata": {},
   "source": [
    "### SQRTNOT"
   ]
  },
  {
   "cell_type": "code",
   "execution_count": null,
   "id": "38fc81c6",
   "metadata": {},
   "outputs": [],
   "source": [
    "sqrtnot()"
   ]
  },
  {
   "cell_type": "markdown",
   "id": "ce4f9f65",
   "metadata": {},
   "source": [
    "### HADAMARD"
   ]
  },
  {
   "cell_type": "code",
   "execution_count": null,
   "id": "8676864d",
   "metadata": {},
   "outputs": [],
   "source": [
    "snot()"
   ]
  },
  {
   "cell_type": "markdown",
   "id": "4f62d9c9",
   "metadata": {},
   "source": [
    "### PHASEGATE"
   ]
  },
  {
   "cell_type": "code",
   "execution_count": null,
   "id": "d5cee607",
   "metadata": {},
   "outputs": [],
   "source": [
    "phasegate(pi / 2)"
   ]
  },
  {
   "cell_type": "markdown",
   "id": "d1f278c8",
   "metadata": {},
   "source": [
    "### GLOBALPHASE"
   ]
  },
  {
   "cell_type": "code",
   "execution_count": null,
   "id": "032d95e3",
   "metadata": {},
   "outputs": [],
   "source": [
    "globalphase(pi / 2)"
   ]
  },
  {
   "cell_type": "markdown",
   "id": "9f9ded0c",
   "metadata": {},
   "source": [
    "### Mølmer–Sørensen gate"
   ]
  },
  {
   "cell_type": "code",
   "execution_count": null,
   "id": "e39105bf",
   "metadata": {},
   "outputs": [],
   "source": [
    "molmer_sorensen(pi / 2)"
   ]
  },
  {
   "cell_type": "markdown",
   "id": "5ad30eba",
   "metadata": {},
   "source": [
    "### Qubit rotation gate"
   ]
  },
  {
   "cell_type": "code",
   "execution_count": null,
   "id": "ff824fd9",
   "metadata": {},
   "outputs": [],
   "source": [
    "qrot(pi / 2, pi / 4)"
   ]
  },
  {
   "cell_type": "markdown",
   "id": "2bade471",
   "metadata": {},
   "source": [
    "### Expanding gates to larger qubit registers"
   ]
  },
  {
   "cell_type": "markdown",
   "id": "94aea020",
   "metadata": {},
   "source": [
    "The example above show how to generate matrice representations of the gates implemented in QuTiP, in their minimal qubit requirements. If the same gates is to be represented in a qubit register of size $N$, the optional keywork argument `N` can be specified when calling the gate function. For example, to generate the matrix for the CNOT gate for a $N=3$ bit register:"
   ]
  },
  {
   "cell_type": "code",
   "execution_count": null,
   "id": "ade2354e",
   "metadata": {},
   "outputs": [],
   "source": [
    "cnot(N=3)"
   ]
  },
  {
   "cell_type": "code",
   "execution_count": null,
   "id": "1a23243f",
   "metadata": {},
   "outputs": [],
   "source": [
    "q = QubitCircuit(3, reverse_states=False)\n",
    "q.add_gate(\"CNOT\", controls=[1], targets=[2])\n",
    "q.png"
   ]
  },
  {
   "cell_type": "markdown",
   "id": "eabe0bc4",
   "metadata": {},
   "source": [
    "Furthermore, the control and target qubits (when applicable) can also be similarly specified using keyword arguments `control` and `target` (or in some cases `controls` or `targets`):"
   ]
  },
  {
   "cell_type": "code",
   "execution_count": null,
   "id": "0a10ea45",
   "metadata": {},
   "outputs": [],
   "source": [
    "cnot(N=3, control=2, target=0)"
   ]
  },
  {
   "cell_type": "code",
   "execution_count": null,
   "id": "ebcf53a1",
   "metadata": {},
   "outputs": [],
   "source": [
    "q = QubitCircuit(3, reverse_states=False)\n",
    "q.add_gate(\"CNOT\", controls=[0], targets=[2])\n",
    "q.png"
   ]
  },
  {
   "cell_type": "markdown",
   "id": "67f2a661",
   "metadata": {},
   "source": [
    "## Setup of a Qubit Circuit"
   ]
  },
  {
   "cell_type": "markdown",
   "id": "9be0f477",
   "metadata": {},
   "source": [
    "The gates implemented in QuTiP can be used to build any qubit circuit using the class QubitCircuit. The output can be obtained in the form of a unitary matrix or a latex representation."
   ]
  },
  {
   "cell_type": "markdown",
   "id": "79cee829",
   "metadata": {},
   "source": [
    "In the following example, we take a SWAP gate. It is known that a swap gate is equivalent to three CNOT gates applied in the given format."
   ]
  },
  {
   "cell_type": "code",
   "execution_count": null,
   "id": "449375da",
   "metadata": {},
   "outputs": [],
   "source": [
    "N = 2\n",
    "qc0 = QubitCircuit(N)\n",
    "qc0.add_gate(\"ISWAP\", [0, 1], None)\n",
    "qc0.png"
   ]
  },
  {
   "cell_type": "code",
   "execution_count": null,
   "id": "0c59ad43",
   "metadata": {},
   "outputs": [],
   "source": [
    "U_list0 = qc0.propagators()\n",
    "U0 = gate_sequence_product(U_list0)\n",
    "U0"
   ]
  },
  {
   "cell_type": "code",
   "execution_count": null,
   "id": "28a18615",
   "metadata": {},
   "outputs": [],
   "source": [
    "qc1 = QubitCircuit(N)\n",
    "qc1.add_gate(\"CNOT\", 0, 1)\n",
    "qc1.add_gate(\"CNOT\", 1, 0)\n",
    "qc1.add_gate(\"CNOT\", 0, 1)\n",
    "qc1.png"
   ]
  },
  {
   "cell_type": "code",
   "execution_count": null,
   "id": "ad497de9",
   "metadata": {},
   "outputs": [],
   "source": [
    "U_list1 = qc1.propagators()\n",
    "U1 = gate_sequence_product(U_list1)\n",
    "U1"
   ]
  },
  {
   "cell_type": "markdown",
   "id": "a8ebec4e",
   "metadata": {},
   "source": [
    "In place of manually converting the SWAP gate to CNOTs, it can be automatically converted using an inbuilt function in QubitCircuit"
   ]
  },
  {
   "cell_type": "code",
   "execution_count": null,
   "id": "2364c03b",
   "metadata": {},
   "outputs": [],
   "source": [
    "qc2 = qc0.resolve_gates(\"CNOT\")\n",
    "qc2.png"
   ]
  },
  {
   "cell_type": "code",
   "execution_count": null,
   "id": "059c20e1",
   "metadata": {},
   "outputs": [],
   "source": [
    "U_list2 = qc2.propagators()\n",
    "U2 = gate_sequence_product(U_list2)\n",
    "U2"
   ]
  },
  {
   "cell_type": "markdown",
   "id": "e79f5303",
   "metadata": {},
   "source": [
    "From QuTiP 4.4, we can also add gate at arbitrary position in a circuit."
   ]
  },
  {
   "cell_type": "code",
   "execution_count": null,
   "id": "d5013ec4",
   "metadata": {},
   "outputs": [],
   "source": [
    "qc1.add_gate(\"CSIGN\", index=[1], targets=[0], controls=[1])\n",
    "qc1.png"
   ]
  },
  {
   "cell_type": "markdown",
   "id": "42aee615",
   "metadata": {},
   "source": [
    "## Example of basis transformation"
   ]
  },
  {
   "cell_type": "code",
   "execution_count": null,
   "id": "0c4769a1",
   "metadata": {},
   "outputs": [],
   "source": [
    "qc3 = QubitCircuit(3)\n",
    "qc3.add_gate(\"CNOT\", 1, 0)\n",
    "qc3.add_gate(\"RX\", 0, None, pi / 2, r\"\\pi/2\")\n",
    "qc3.add_gate(\"RY\", 1, None, pi / 2, r\"\\pi/2\")\n",
    "qc3.add_gate(\"RZ\", 2, None, pi / 2, r\"\\pi/2\")\n",
    "qc3.add_gate(\"ISWAP\", [1, 2])\n",
    "qc3.png"
   ]
  },
  {
   "cell_type": "code",
   "execution_count": null,
   "id": "72b42acb",
   "metadata": {},
   "outputs": [],
   "source": [
    "U3 = gate_sequence_product(qc3.propagators())\n",
    "U3"
   ]
  },
  {
   "cell_type": "markdown",
   "id": "a9f3bd83",
   "metadata": {},
   "source": [
    "### The transformation can either be only in terms of 2-qubit gates:"
   ]
  },
  {
   "cell_type": "code",
   "execution_count": null,
   "id": "10039690",
   "metadata": {},
   "outputs": [],
   "source": [
    "qc4 = qc3.resolve_gates(\"CNOT\")\n",
    "qc4.png"
   ]
  },
  {
   "cell_type": "code",
   "execution_count": null,
   "id": "d0a782a4",
   "metadata": {},
   "outputs": [],
   "source": [
    "U4 = gate_sequence_product(qc4.propagators())\n",
    "U4"
   ]
  },
  {
   "cell_type": "code",
   "execution_count": null,
   "id": "9de8f778",
   "metadata": {},
   "outputs": [],
   "source": [
    "qc5 = qc3.resolve_gates(\"ISWAP\")\n",
    "qc5.png"
   ]
  },
  {
   "cell_type": "code",
   "execution_count": null,
   "id": "1feddf5a",
   "metadata": {},
   "outputs": [],
   "source": [
    "U5 = gate_sequence_product(qc5.propagators())\n",
    "U5"
   ]
  },
  {
   "cell_type": "markdown",
   "id": "83ac344b",
   "metadata": {},
   "source": [
    "### Or the transformation can be in terms of any 2 single qubit rotation gates along with the 2-qubit gate."
   ]
  },
  {
   "cell_type": "code",
   "execution_count": null,
   "id": "c5cb73ca",
   "metadata": {},
   "outputs": [],
   "source": [
    "qc6 = qc3.resolve_gates([\"ISWAP\", \"RX\", \"RY\"])\n",
    "qc6.png"
   ]
  },
  {
   "cell_type": "code",
   "execution_count": null,
   "id": "5687e222",
   "metadata": {},
   "outputs": [],
   "source": [
    "U6 = gate_sequence_product(qc6.propagators())\n",
    "U6"
   ]
  },
  {
   "cell_type": "code",
   "execution_count": null,
   "id": "80355d59",
   "metadata": {},
   "outputs": [],
   "source": [
    "qc7 = qc3.resolve_gates([\"CNOT\", \"RZ\", \"RX\"])\n",
    "qc7.png"
   ]
  },
  {
   "cell_type": "code",
   "execution_count": null,
   "id": "34106e1c",
   "metadata": {},
   "outputs": [],
   "source": [
    "U7 = gate_sequence_product(qc7.propagators())\n",
    "U7"
   ]
  },
  {
   "cell_type": "markdown",
   "id": "d034aa3e",
   "metadata": {},
   "source": [
    "## Resolving non-adjacent interactions"
   ]
  },
  {
   "cell_type": "markdown",
   "id": "2322f62c",
   "metadata": {},
   "source": [
    "Interactions between non-adjacent qubits can be resolved by QubitCircuit to a series of adjacent interactions, which is useful for systems such as spin chain models."
   ]
  },
  {
   "cell_type": "code",
   "execution_count": null,
   "id": "60e20602",
   "metadata": {},
   "outputs": [],
   "source": [
    "qc8 = QubitCircuit(3)\n",
    "qc8.add_gate(\"CNOT\", 2, 0)\n",
    "qc8.png"
   ]
  },
  {
   "cell_type": "code",
   "execution_count": null,
   "id": "13b7b143",
   "metadata": {},
   "outputs": [],
   "source": [
    "U8 = gate_sequence_product(qc8.propagators())\n",
    "U8"
   ]
  },
  {
   "cell_type": "code",
   "execution_count": null,
   "id": "9dc8b104",
   "metadata": {},
   "outputs": [],
   "source": [
    "qc9 = qc8.adjacent_gates()\n",
    "qc9.gates"
   ]
  },
  {
   "cell_type": "code",
   "execution_count": null,
   "id": "320d9a98",
   "metadata": {},
   "outputs": [],
   "source": [
    "U9 = gate_sequence_product(qc9.propagators())\n",
    "U9"
   ]
  },
  {
   "cell_type": "code",
   "execution_count": null,
   "id": "8d02e6c3",
   "metadata": {},
   "outputs": [],
   "source": [
    "qc10 = qc9.resolve_gates(\"CNOT\")\n",
    "qc10.png"
   ]
  },
  {
   "cell_type": "code",
   "execution_count": null,
   "id": "0afa43f6",
   "metadata": {},
   "outputs": [],
   "source": [
    "U10 = gate_sequence_product(qc10.propagators())\n",
    "U10"
   ]
  },
  {
   "cell_type": "markdown",
   "id": "a53bef8d",
   "metadata": {},
   "source": [
    "## Adding gate in the middle of a circuit\n",
    "From QuTiP 4.4 one can add a gate at an arbitrary position of a circuit. All one needs to do is to specify the parameter index. With this, we can also add the same gate at multiple positions at the same time."
   ]
  },
  {
   "cell_type": "code",
   "execution_count": null,
   "id": "e805c352",
   "metadata": {},
   "outputs": [],
   "source": [
    "qc = QubitCircuit(1)\n",
    "qc.add_gate(\"RX\", targets=1, arg_value=np.pi / 2)\n",
    "qc.add_gate(\"RX\", targets=1, arg_value=np.pi / 2)\n",
    "qc.add_gate(\"RY\", targets=1, arg_value=np.pi / 2, index=[0])\n",
    "qc.gates"
   ]
  },
  {
   "cell_type": "markdown",
   "id": "88b3f4f1",
   "metadata": {},
   "source": [
    "## User defined gates\n",
    "From QuTiP 4.4 on, user defined gates can be defined by a python function that takes at most one parameter and return a `Qobj`, the dimension of the `Qobj` has to match the qubit system."
   ]
  },
  {
   "cell_type": "code",
   "execution_count": null,
   "id": "95f2a3f2",
   "metadata": {},
   "outputs": [],
   "source": [
    "def user_gate1(arg_value):\n",
    "    # controlled rotation X\n",
    "    mat = np.zeros((4, 4), dtype=np.complex)\n",
    "    mat[0, 0] = mat[1, 1] = 1.0\n",
    "    mat[2:4, 2:4] = rx(arg_value)\n",
    "    return Qobj(mat, dims=[[2, 2], [2, 2]])\n",
    "\n",
    "\n",
    "def user_gate2():\n",
    "    # S gate\n",
    "    mat = np.array([[1.0, 0], [0.0, 1.0j]])\n",
    "    return Qobj(mat, dims=[[2], [2]])"
   ]
  },
  {
   "cell_type": "markdown",
   "id": "3c92ab64",
   "metadata": {},
   "source": [
    "To let the `QubitCircuit` process those gates, we need to modify its attribute `QubitCircuit.user_gates`, which is a python dictionary in the form `{name: gate_function}`."
   ]
  },
  {
   "cell_type": "code",
   "execution_count": null,
   "id": "77641852",
   "metadata": {},
   "outputs": [],
   "source": [
    "qc = QubitCircuit(2)\n",
    "qc.user_gates = {\"CTRLRX\": user_gate1, \"S\": user_gate2}"
   ]
  },
  {
   "cell_type": "markdown",
   "id": "bcc5e658",
   "metadata": {},
   "source": [
    "When calling the `add_gate` method, the target qubits and the argument need to be given."
   ]
  },
  {
   "cell_type": "code",
   "execution_count": null,
   "id": "51d021b7",
   "metadata": {},
   "outputs": [],
   "source": [
    "# qubit 0 controls qubit 1\n",
    "qc.add_gate(\"CTRLRX\", targets=[0, 1], arg_value=pi / 2)\n",
    "# qubit 1 controls qubit 0\n",
    "qc.add_gate(\"CTRLRX\", targets=[1, 0], arg_value=pi / 2)\n",
    "# a gate can also be added using the Gate class\n",
    "g_T = Gate(\"S\", targets=[1])\n",
    "qc.add_gate(\"S\", targets=[1])\n",
    "props = qc.propagators()"
   ]
  },
  {
   "cell_type": "code",
   "execution_count": null,
   "id": "7515ac0b",
   "metadata": {},
   "outputs": [],
   "source": [
    "props[0]  # qubit 0 controls qubit 1"
   ]
  },
  {
   "cell_type": "code",
   "execution_count": null,
   "id": "7703a359",
   "metadata": {},
   "outputs": [],
   "source": [
    "props[1]  # qubit 1 controls qubit 0"
   ]
  },
  {
   "cell_type": "code",
   "execution_count": null,
   "id": "2340791b",
   "metadata": {},
   "outputs": [],
   "source": [
    "props[2]  # S  gate acts on qubit 1"
   ]
  },
  {
   "cell_type": "markdown",
   "id": "d4908124",
   "metadata": {},
   "source": [
    "## Software versions"
   ]
  },
  {
   "cell_type": "code",
   "execution_count": null,
   "id": "702030ae",
   "metadata": {},
   "outputs": [],
   "source": [
    "about()"
   ]
  }
 ],
 "metadata": {
  "jupytext": {
   "cell_metadata_filter": "-all",
   "notebook_metadata_filter": "-jupytext.cell_metadata_filter,-jupytext.notebook_metadata_filter"
  },
  "kernelspec": {
   "display_name": "Python 3 (ipykernel)",
   "language": "python",
   "name": "python3"
  }
 },
 "nbformat": 4,
 "nbformat_minor": 5
}
