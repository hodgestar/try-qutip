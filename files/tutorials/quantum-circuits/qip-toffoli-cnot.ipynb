{
 "cells": [
  {
   "cell_type": "markdown",
   "id": "d36b4e84",
   "metadata": {},
   "source": [
    "# Decomposition of the Toffoli gate in terms of CNOT and single-qubit rotations"
   ]
  },
  {
   "cell_type": "markdown",
   "id": "fd418b93",
   "metadata": {},
   "source": [
    "Copyright (C) 2011 and later, Paul D. Nation & Robert J. Johansson"
   ]
  },
  {
   "cell_type": "markdown",
   "id": "092d2f20",
   "metadata": {},
   "source": [
    "This notebooks demonstrates how a toffoli gate can be rewritten in terms of CNOT gates and single qubit gates, and verifies the equivalence of the two gate sequences by comparing their matrix representations. For more information about the toffoli decomposition, see Nielsen & Chuang, Sec. 4.3, p178.\n",
    "\n",
    "\n",
    "**Note: The circuit image visualizations require [ImageMagick](https://imagemagick.org/index.php) for display.**\n",
    "\n",
    "ImageMagick can be easily installed with the command `conda install imagemagick` if you have conda installed.\n",
    "Otherwise, please follow the installation instructions on the ImageMagick documentation."
   ]
  },
  {
   "cell_type": "code",
   "execution_count": null,
   "id": "a30e4f79",
   "metadata": {},
   "outputs": [],
   "source": [
    "from qutip import about\n",
    "from qutip_qip.operations import gate_sequence_product\n",
    "from qutip_qip.circuit import QubitCircuit"
   ]
  },
  {
   "cell_type": "code",
   "execution_count": null,
   "id": "893984bd",
   "metadata": {},
   "outputs": [],
   "source": [
    "q = QubitCircuit(3, reverse_states=False)\n",
    "q.add_gate(\"TOFFOLI\", controls=[0, 2], targets=[1])"
   ]
  },
  {
   "cell_type": "code",
   "execution_count": null,
   "id": "9e8d1199",
   "metadata": {},
   "outputs": [],
   "source": [
    "q.png"
   ]
  },
  {
   "cell_type": "code",
   "execution_count": null,
   "id": "4320b3e2",
   "metadata": {},
   "outputs": [],
   "source": [
    "U = gate_sequence_product(q.propagators())\n",
    "\n",
    "U.tidyup()"
   ]
  },
  {
   "cell_type": "code",
   "execution_count": null,
   "id": "49377db1",
   "metadata": {},
   "outputs": [],
   "source": [
    "q2 = q.resolve_gates()"
   ]
  },
  {
   "cell_type": "code",
   "execution_count": null,
   "id": "1eb04f6d",
   "metadata": {},
   "outputs": [],
   "source": [
    "q2.png"
   ]
  },
  {
   "cell_type": "code",
   "execution_count": null,
   "id": "c74c9d1e",
   "metadata": {},
   "outputs": [],
   "source": [
    "U2 = gate_sequence_product(q2.propagators())\n",
    "\n",
    "U2.tidyup()"
   ]
  },
  {
   "cell_type": "code",
   "execution_count": null,
   "id": "ee25167d",
   "metadata": {},
   "outputs": [],
   "source": [
    "U == U2"
   ]
  },
  {
   "cell_type": "markdown",
   "id": "7c4a1ee9",
   "metadata": {},
   "source": [
    "## Versions"
   ]
  },
  {
   "cell_type": "code",
   "execution_count": null,
   "id": "6b81acb4",
   "metadata": {},
   "outputs": [],
   "source": [
    "about()"
   ]
  }
 ],
 "metadata": {
  "jupytext": {
   "cell_metadata_filter": "-all",
   "notebook_metadata_filter": "-jupytext.cell_metadata_filter,-jupytext.notebook_metadata_filter"
  },
  "kernelspec": {
   "display_name": "Python 3 (ipykernel)",
   "language": "python",
   "name": "python3"
  }
 },
 "nbformat": 4,
 "nbformat_minor": 5
}
