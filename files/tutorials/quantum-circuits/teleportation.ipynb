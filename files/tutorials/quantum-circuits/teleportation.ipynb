{
 "cells": [
  {
   "cell_type": "markdown",
   "id": "91d354eb",
   "metadata": {},
   "source": [
    "# Quantum Teleportation Circuit"
   ]
  },
  {
   "cell_type": "code",
   "execution_count": null,
   "id": "dd188ea9",
   "metadata": {},
   "outputs": [],
   "source": [
    "from math import sqrt\n",
    "\n",
    "from qutip import about, basis, tensor\n",
    "from qutip_qip.circuit import QubitCircuit\n",
    "from qutip_qip.operations import Measurement"
   ]
  },
  {
   "cell_type": "markdown",
   "id": "554ceca4",
   "metadata": {},
   "source": [
    "## Introduction \n",
    "\n",
    "This notebook introduces the basic quantum teleportation circuit (https://en.wikipedia.org/wiki/Quantum_teleportation), complete with measurements and classical control. This notebook also serves as an example on how to add measurement gates and classical controls to a circuit.\n",
    "\n",
    "We will describe the circuit that enables quantum teleportation. We will use two classical wires and three qubit wires. The first qubit wire represents the quantum state $| q0 ⟩ = | \\psi ⟩$ that needs to be transferred from Alice to Bob (so the first qubit is in the possession of Alice). "
   ]
  },
  {
   "cell_type": "code",
   "execution_count": null,
   "id": "97a96774",
   "metadata": {},
   "outputs": [],
   "source": [
    "teleportation = QubitCircuit(\n",
    "    3, num_cbits=2, input_states=[r\"\\psi\", \"0\", \"0\", \"c0\", \"c1\"]\n",
    ")"
   ]
  },
  {
   "cell_type": "markdown",
   "id": "0193cdf2",
   "metadata": {},
   "source": [
    "First, Alice and Bob need to create the shared EPR pair ($\\frac{| 00 ⟩ + | 11 ⟩} {2}$) between the second and third qubit by using the hadamard gate on Alice's qubit followed by an entangling CNOT gate.  "
   ]
  },
  {
   "cell_type": "code",
   "execution_count": null,
   "id": "16aad610",
   "metadata": {},
   "outputs": [],
   "source": [
    "teleportation.add_gate(\"SNOT\", targets=[1])\n",
    "teleportation.add_gate(\"CNOT\", targets=[2], controls=[1])"
   ]
  },
  {
   "cell_type": "markdown",
   "id": "5a8fde1a",
   "metadata": {},
   "source": [
    "Following this, Alice makes the qubit $| q0 ⟩$ interact with Alice's EPR qubit, followed by measuring on the two qubits belonging to Alice. The measurement results for the first qubit is stored in classical register $c1$ and the second qubit is stored in classical register $c0$."
   ]
  },
  {
   "cell_type": "code",
   "execution_count": null,
   "id": "f976a61c",
   "metadata": {},
   "outputs": [],
   "source": [
    "teleportation.add_gate(\"CNOT\", targets=[1], controls=[0])\n",
    "teleportation.add_gate(\"SNOT\", targets=[0])\n",
    "\n",
    "teleportation.add_measurement(\"M0\", targets=[0], classical_store=1)\n",
    "teleportation.add_measurement(\"M1\", targets=[1], classical_store=0)"
   ]
  },
  {
   "cell_type": "markdown",
   "id": "d4bc03a9",
   "metadata": {},
   "source": [
    "Now, we apply the $X$ gate on Bob's qubit based on the classical control $c0$ and $Z$ gate based on classical control $c1$. These operations correspond to the following operations based on the state of Alice's measurement. \n",
    "\n",
    "$|00⟩ \\rightarrow $ no operation \\\n",
    "$|01⟩ \\rightarrow Z$ \\\n",
    "$|10⟩ \\rightarrow X$ \\\n",
    "$|11⟩ \\rightarrow ZX$ \n",
    "\n",
    "The final circuit mathematically must result in the third qubit taking the state $|\\psi⟩$. "
   ]
  },
  {
   "cell_type": "code",
   "execution_count": null,
   "id": "23e58cc6",
   "metadata": {},
   "outputs": [],
   "source": [
    "teleportation.add_gate(\"X\", targets=[2], classical_controls=[0])\n",
    "teleportation.add_gate(\"Z\", targets=[2], classical_controls=[1])"
   ]
  },
  {
   "cell_type": "markdown",
   "id": "cfe51ee4",
   "metadata": {},
   "source": [
    "Finally, our teleportation circuit is ready to run, we can view the circuit structure using the following command. "
   ]
  },
  {
   "cell_type": "code",
   "execution_count": null,
   "id": "452e66e7",
   "metadata": {},
   "outputs": [],
   "source": [
    "teleportation.gates"
   ]
  },
  {
   "cell_type": "markdown",
   "id": "cd5c0aaa",
   "metadata": {},
   "source": [
    "The circuit can also be visualized:"
   ]
  },
  {
   "cell_type": "code",
   "execution_count": null,
   "id": "ad5d1d25",
   "metadata": {},
   "outputs": [],
   "source": [
    "teleportation"
   ]
  },
  {
   "cell_type": "markdown",
   "id": "54c6beb1",
   "metadata": {},
   "source": [
    "The first qubit is user-specified $|\\psi ⟩$ state and the other two must be $|0⟩$. \n",
    "\n",
    "### Example 1 \n",
    "#### $|\\psi⟩ = |+ ⟩$  "
   ]
  },
  {
   "cell_type": "code",
   "execution_count": null,
   "id": "1e42df2e",
   "metadata": {},
   "outputs": [],
   "source": [
    "a = 1 / sqrt(2) * basis(2, 0) + 1 / sqrt(2) * basis(2, 1)\n",
    "state = tensor(a, basis(2, 0), basis(2, 0))"
   ]
  },
  {
   "cell_type": "markdown",
   "id": "aede3513",
   "metadata": {},
   "source": [
    "We can confirm our state is initialized correctly by observing the measurment statistics on the first qubit, followed by which we run the circuit."
   ]
  },
  {
   "cell_type": "code",
   "execution_count": null,
   "id": "bee8c361",
   "metadata": {},
   "outputs": [],
   "source": [
    "initial_measurement = Measurement(\"start\", targets=[0])\n",
    "initial_measurement.measurement_comp_basis(state)"
   ]
  },
  {
   "cell_type": "markdown",
   "id": "9ed0719b",
   "metadata": {},
   "source": [
    "We can run the circuit using the `QubitCircuit.run()` function which provided the initial state-vector (or density matrix) initiates one run on the circuit (including sampling any intermediate measurements) and providing the final results (any classical bits can also be explicitly set using the argument `cbits`). The results are returned as a `Result` object. The result states can be accessed through the `get_states()` function where the argument `index=0` specifies the first(only) result should be returned"
   ]
  },
  {
   "cell_type": "code",
   "execution_count": null,
   "id": "17b975e9",
   "metadata": {},
   "outputs": [],
   "source": [
    "state_final = teleportation.run(state)\n",
    "print(state_final)"
   ]
  },
  {
   "cell_type": "markdown",
   "id": "1f70caa4",
   "metadata": {},
   "source": [
    "After running, we can see the measurement statistics on the last qubit to see that the qubit is teleported correctly. "
   ]
  },
  {
   "cell_type": "code",
   "execution_count": null,
   "id": "f1989b22",
   "metadata": {},
   "outputs": [],
   "source": [
    "final_measurement = Measurement(\"start\", targets=[2])\n",
    "final_measurement.measurement_comp_basis(state_final)"
   ]
  },
  {
   "cell_type": "markdown",
   "id": "9005ed98",
   "metadata": {},
   "source": [
    "### Example 2 \n",
    "#### $|\\psi⟩ = |1 ⟩$  "
   ]
  },
  {
   "cell_type": "code",
   "execution_count": null,
   "id": "49cf4740",
   "metadata": {},
   "outputs": [],
   "source": [
    "state = tensor(basis(2, 1), basis(2, 0), basis(2, 0))\n",
    "initial_measurement = Measurement(\"start\", targets=[0])\n",
    "initial_measurement.measurement_comp_basis(state)"
   ]
  },
  {
   "cell_type": "code",
   "execution_count": null,
   "id": "72c55bf0",
   "metadata": {},
   "outputs": [],
   "source": [
    "state_final = teleportation.run(state)\n",
    "print(state_final)"
   ]
  },
  {
   "cell_type": "code",
   "execution_count": null,
   "id": "a0b6eaba",
   "metadata": {},
   "outputs": [],
   "source": [
    "final_measurement = Measurement(\"start\", targets=[2])\n",
    "final_measurement.measurement_comp_basis(state_final)"
   ]
  },
  {
   "cell_type": "markdown",
   "id": "f152fb3a",
   "metadata": {},
   "source": [
    "Another useful feature of the circuit module is the **QubitCircuit.run_statistics()** feature which provides the opportunity to gather all the possible output states of the circuit along with their output probabilities. Again, the results are returned as a `Result` object. The result states and respective probabilites can be accessed through the `get_results()` function. "
   ]
  },
  {
   "cell_type": "code",
   "execution_count": null,
   "id": "2941c059",
   "metadata": {},
   "outputs": [],
   "source": [
    "results = teleportation.run_statistics(state)\n",
    "results.probabilities"
   ]
  },
  {
   "cell_type": "code",
   "execution_count": null,
   "id": "86de49a9",
   "metadata": {},
   "outputs": [],
   "source": [
    "results.final_states"
   ]
  },
  {
   "cell_type": "code",
   "execution_count": null,
   "id": "420aeecf",
   "metadata": {},
   "outputs": [],
   "source": [
    "about()"
   ]
  }
 ],
 "metadata": {
  "jupytext": {
   "cell_metadata_filter": "-all",
   "notebook_metadata_filter": "-jupytext.cell_metadata_filter,-jupytext.notebook_metadata_filter"
  },
  "kernelspec": {
   "display_name": "Python 3 (ipykernel)",
   "language": "python",
   "name": "python3"
  }
 },
 "nbformat": 4,
 "nbformat_minor": 5
}
