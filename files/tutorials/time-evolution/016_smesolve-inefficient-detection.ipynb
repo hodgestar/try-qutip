{
 "cells": [
  {
   "cell_type": "markdown",
   "id": "b6f6a0cc",
   "metadata": {},
   "source": [
    "# Stochastic Solver: Mixing stochastic and deterministic equations"
   ]
  },
  {
   "cell_type": "markdown",
   "id": "dab2535c",
   "metadata": {},
   "source": [
    "Copyright (C) 2011 and later, Paul D. Nation & Robert J. Johansson"
   ]
  },
  {
   "cell_type": "code",
   "execution_count": null,
   "id": "6d85d519",
   "metadata": {},
   "outputs": [],
   "source": [
    "from matplotlib import rcParams\n",
    "import matplotlib.pyplot as plt\n",
    "import numpy as np\n",
    "from qutip import (about, coherent, destroy, fock, general_stochastic, ket2dm,\n",
    "                   liouvillian, mesolve, parallel_map, photocurrent_mesolve,\n",
    "                   plot_expectation_values, smesolve, spost, spre)\n",
    "from qutip.expect import expect_rho_vec\n",
    "%matplotlib inline\n",
    "\n",
    "rcParams[\"font.family\"] = \"STIXGeneral\"\n",
    "rcParams[\"mathtext.fontset\"] = \"stix\"\n",
    "rcParams[\"font.size\"] = \"14\""
   ]
  },
  {
   "cell_type": "markdown",
   "id": "266a844b",
   "metadata": {},
   "source": [
    "## Direct photo-detection"
   ]
  },
  {
   "cell_type": "markdown",
   "id": "b66b2305",
   "metadata": {},
   "source": [
    "Here we follow an example from Wiseman and Milburn, *Quantum measurement and control*, section. 4.8.1.\n",
    "\n",
    "Consider cavity that leaks photons with a rate $\\kappa$. The dissipated photons are detected with an inefficient photon detector,\n",
    "with photon-detection efficiency $\\eta$. The master equation describing this scenario, where a separate dissipation channel has been added for detections and missed detections, is\n",
    "\n",
    "$\\dot\\rho = -i[H, \\rho] + \\mathcal{D}[\\sqrt{1-\\eta} \\sqrt{\\kappa} a] + \\mathcal{D}[\\sqrt{\\eta} \\sqrt{\\kappa}a]$\n",
    "\n",
    "To describe the photon measurement stochastically, we can unravelling only the dissipation term that corresponds to detections, and leaving the missed detections as a deterministic dissipation term, we obtain [Eq. (4.235) in W&M]\n",
    "\n",
    "$d\\rho = \\mathcal{H}[-iH -\\eta\\frac{1}{2}a^\\dagger a] \\rho dt + \\mathcal{D}[\\sqrt{1-\\eta} a] \\rho dt + \\mathcal{G}[\\sqrt{\\eta}a] \\rho dN(t)$\n",
    "\n",
    "or\n",
    "\n",
    "$d\\rho = -i[H, \\rho] dt + \\mathcal{D}[\\sqrt{1-\\eta} a] \\rho dt -\\mathcal{H}[\\eta\\frac{1}{2}a^\\dagger a] \\rho dt + \\mathcal{G}[\\sqrt{\\eta}a] \\rho dN(t)$\n",
    "\n",
    "where\n",
    "\n",
    "$\\displaystyle \\mathcal{G}[A] \\rho = \\frac{A\\rho A^\\dagger}{\\mathrm{Tr}[A\\rho A^\\dagger]} - \\rho$\n",
    "\n",
    "$\\displaystyle \\mathcal{H}[A] \\rho = A\\rho + \\rho A^\\dagger - \\mathrm{Tr}[A\\rho + \\rho A^\\dagger] \\rho $\n",
    "\n",
    "and $dN(t)$ is a Poisson distributed increment with $E[dN(t)] = \\eta \\langle a^\\dagger a\\rangle (t)$."
   ]
  },
  {
   "cell_type": "markdown",
   "id": "1b5b6af1",
   "metadata": {},
   "source": [
    "### Formulation in QuTiP\n",
    "\n",
    "In QuTiP, the photocurrent stochastic master equation is written in the form:\n",
    "\n",
    "$\\displaystyle d\\rho(t) = -i[H, \\rho] dt + \\mathcal{D}[B] \\rho dt \n",
    "- \\frac{1}{2}\\mathcal{H}[A^\\dagger A] \\rho(t) dt \n",
    "+ \\mathcal{G}[A]\\rho(t) d\\xi$\n",
    "\n",
    "where the first two term gives the deterministic master equation (Lindblad form with collapse operator $B$ (c_ops)) and $A$ the stochastic collapse operator (sc_ops). \n",
    "\n",
    "Here $A = \\sqrt{\\eta\\gamma} a$ and $B = \\sqrt{(1-\\eta)\\gamma} $a."
   ]
  },
  {
   "cell_type": "code",
   "execution_count": null,
   "id": "499b3e63",
   "metadata": {},
   "outputs": [],
   "source": [
    "N = 15\n",
    "w0 = 0.5 * 2 * np.pi\n",
    "times = np.linspace(0, 15, 150)\n",
    "dt = times[1] - times[0]\n",
    "gamma = 0.1\n",
    "\n",
    "a = destroy(N)\n",
    "\n",
    "H = w0 * a.dag() * a\n",
    "\n",
    "rho0 = fock(N, 5)\n",
    "\n",
    "e_ops = [a.dag() * a, a + a.dag()]"
   ]
  },
  {
   "cell_type": "markdown",
   "id": "9dc9ef2f",
   "metadata": {},
   "source": [
    "### Highly efficient detection"
   ]
  },
  {
   "cell_type": "code",
   "execution_count": null,
   "id": "1adbf076",
   "metadata": {},
   "outputs": [],
   "source": [
    "eta = 0.7\n",
    "c_ops = [np.sqrt(1 - eta) * np.sqrt(gamma) * a]  # collapse operator B\n",
    "sc_ops = [np.sqrt(eta) * np.sqrt(gamma) * a]  # stochastic collapse operator A"
   ]
  },
  {
   "cell_type": "code",
   "execution_count": null,
   "id": "51e39c99",
   "metadata": {},
   "outputs": [],
   "source": [
    "result_ref = mesolve(H, rho0, times, c_ops + sc_ops, e_ops)"
   ]
  },
  {
   "cell_type": "code",
   "execution_count": null,
   "id": "91c4c4f4",
   "metadata": {},
   "outputs": [],
   "source": [
    "result1 = photocurrent_mesolve(\n",
    "    H,\n",
    "    rho0,\n",
    "    times,\n",
    "    c_ops=c_ops,\n",
    "    sc_ops=sc_ops,\n",
    "    e_ops=e_ops,\n",
    "    ntraj=1,\n",
    "    nsubsteps=100,\n",
    "    store_measurement=True,\n",
    ")"
   ]
  },
  {
   "cell_type": "code",
   "execution_count": null,
   "id": "7a6d76c3",
   "metadata": {},
   "outputs": [],
   "source": [
    "result2 = photocurrent_mesolve(\n",
    "    H,\n",
    "    rho0,\n",
    "    times,\n",
    "    c_ops=c_ops,\n",
    "    sc_ops=sc_ops,\n",
    "    e_ops=e_ops,\n",
    "    ntraj=10,\n",
    "    nsubsteps=100,\n",
    "    store_measurement=True,\n",
    ")"
   ]
  },
  {
   "cell_type": "code",
   "execution_count": null,
   "id": "125b71e7",
   "metadata": {},
   "outputs": [],
   "source": [
    "fig, axes = plt.subplots(2, 2, figsize=(12, 8), sharex=True)\n",
    "\n",
    "axes[0, 0].plot(times, result1.expect[0],\n",
    "                label=r\"Stochastic ME (ntraj = 1)\", lw=2)\n",
    "axes[0, 0].plot(times, result_ref.expect[0], label=r\"Lindblad ME\", lw=2)\n",
    "axes[0, 0].set_title(\"Cavity photon number (ntraj = 1)\")\n",
    "axes[0, 0].legend()\n",
    "\n",
    "axes[0, 1].plot(times, result2.expect[0],\n",
    "                label=r\"Stochatic ME (ntraj = 10)\", lw=2)\n",
    "axes[0, 1].plot(times, result_ref.expect[0], label=r\"Lindblad ME\", lw=2)\n",
    "axes[0, 1].set_title(\"Cavity photon number (ntraj = 10)\")\n",
    "axes[0, 1].legend()\n",
    "\n",
    "axes[1, 0].step(times, dt * np.cumsum(result1.measurement[0].real), lw=2)\n",
    "axes[1, 0].set_title(\"Cummulative photon detections (ntraj = 1)\")\n",
    "axes[1, 1].step(\n",
    "    times,\n",
    "    dt * np.cumsum(np.array(result2.measurement).sum(axis=0).real) / 10,\n",
    "    lw=2\n",
    ")\n",
    "axes[1, 1].set_title(\"Cummulative avg. photon detections (ntraj = 10)\")\n",
    "\n",
    "fig.tight_layout()"
   ]
  },
  {
   "cell_type": "markdown",
   "id": "29e5b221",
   "metadata": {},
   "source": [
    "### Highly inefficient photon detection"
   ]
  },
  {
   "cell_type": "code",
   "execution_count": null,
   "id": "fb07d8f3",
   "metadata": {},
   "outputs": [],
   "source": [
    "eta = 0.1\n",
    "c_ops = [np.sqrt(1 - eta) * np.sqrt(gamma) * a]  # collapse operator B\n",
    "sc_ops = [np.sqrt(eta) * np.sqrt(gamma) * a]  # stochastic collapse operator A"
   ]
  },
  {
   "cell_type": "code",
   "execution_count": null,
   "id": "2617481e",
   "metadata": {},
   "outputs": [],
   "source": [
    "result_ref = mesolve(H, rho0, times, c_ops + sc_ops, e_ops)"
   ]
  },
  {
   "cell_type": "code",
   "execution_count": null,
   "id": "6f30406c",
   "metadata": {},
   "outputs": [],
   "source": [
    "result1 = photocurrent_mesolve(\n",
    "    H,\n",
    "    rho0,\n",
    "    times,\n",
    "    c_ops=c_ops,\n",
    "    sc_ops=sc_ops,\n",
    "    e_ops=e_ops,\n",
    "    ntraj=1,\n",
    "    nsubsteps=100,\n",
    "    store_measurement=True,\n",
    ")"
   ]
  },
  {
   "cell_type": "code",
   "execution_count": null,
   "id": "02f7d0eb",
   "metadata": {},
   "outputs": [],
   "source": [
    "result2 = photocurrent_mesolve(\n",
    "    H,\n",
    "    rho0,\n",
    "    times,\n",
    "    c_ops=c_ops,\n",
    "    sc_ops=sc_ops,\n",
    "    e_ops=e_ops,\n",
    "    ntraj=10,\n",
    "    nsubsteps=100,\n",
    "    store_measurement=True,\n",
    ")"
   ]
  },
  {
   "cell_type": "code",
   "execution_count": null,
   "id": "f1ca8ee1",
   "metadata": {},
   "outputs": [],
   "source": [
    "fig, axes = plt.subplots(2, 2, figsize=(12, 8), sharex=True)\n",
    "\n",
    "axes[0, 0].plot(times, result1.expect[0],\n",
    "                label=r\"Stochastic ME (ntraj = 1)\", lw=2)\n",
    "axes[0, 0].plot(times, result_ref.expect[0], label=r\"Lindblad ME\", lw=2)\n",
    "axes[0, 0].set_title(\"Cavity photon number (ntraj = 1)\")\n",
    "axes[0, 0].legend()\n",
    "\n",
    "axes[0, 1].plot(times, result2.expect[0],\n",
    "                label=r\"Stochatic ME (ntraj = 10)\", lw=2)\n",
    "axes[0, 1].plot(times, result_ref.expect[0], label=r\"Lindblad ME\", lw=2)\n",
    "axes[0, 1].set_title(\"Cavity photon number (ntraj = 10)\")\n",
    "axes[0, 1].legend()\n",
    "\n",
    "axes[1, 0].step(times, dt * np.cumsum(result1.measurement[0].real), lw=2)\n",
    "axes[1, 0].set_title(\"Cummulative photon detections (ntraj = 1)\")\n",
    "axes[1, 1].step(\n",
    "    times,\n",
    "    dt * np.cumsum(np.array(result2.measurement).sum(axis=0).real) / 10,\n",
    "    lw=2\n",
    ")\n",
    "axes[1, 1].set_title(\"Cummulative avg. photon detections (ntraj = 10)\")\n",
    "\n",
    "fig.tight_layout()"
   ]
  },
  {
   "cell_type": "markdown",
   "id": "b028e5d0",
   "metadata": {},
   "source": [
    "## Efficient homodyne detection"
   ]
  },
  {
   "cell_type": "markdown",
   "id": "eb8221ee",
   "metadata": {},
   "source": [
    "The stochastic master equation for inefficient homodyne detection, when unravaling the detection part of the master equation\n",
    "\n",
    "$\\dot\\rho = -i[H, \\rho] + \\mathcal{D}[\\sqrt{1-\\eta} \\sqrt{\\kappa} a] + \\mathcal{D}[\\sqrt{\\eta} \\sqrt{\\kappa}a]$,\n",
    "\n",
    "is given in W&M as\n",
    "\n",
    "$d\\rho = -i[H, \\rho]dt + \\mathcal{D}[\\sqrt{1-\\eta} \\sqrt{\\kappa} a] \\rho dt \n",
    "+\n",
    "\\mathcal{D}[\\sqrt{\\eta} \\sqrt{\\kappa}a] \\rho dt\n",
    "+\n",
    "\\mathcal{H}[\\sqrt{\\eta} \\sqrt{\\kappa}a] \\rho d\\xi$\n",
    "\n",
    "where $d\\xi$ is the Wiener increment. This can be described as a standard homodyne detection with efficiency $\\eta$ together with a stochastic dissipation process with collapse operator $\\sqrt{(1-\\eta)\\kappa} a$. Alternatively we can combine the two deterministic terms on standard Lindblad for and obtain the stochastic equation (which is the form given in W&M)\n",
    "\n",
    "$d\\rho = -i[H, \\rho]dt + \\mathcal{D}[\\sqrt{\\kappa} a]\\rho dt + \\sqrt{\\eta}\\mathcal{H}[\\sqrt{\\kappa}a] \\rho d\\xi$\n",
    "\n",
    "Below we solve these two equivalent equations with QuTiP"
   ]
  },
  {
   "cell_type": "code",
   "execution_count": null,
   "id": "c6f4c668",
   "metadata": {},
   "outputs": [],
   "source": [
    "rho0 = coherent(N, np.sqrt(5))"
   ]
  },
  {
   "cell_type": "markdown",
   "id": "8f5ee155",
   "metadata": {},
   "source": [
    "### Form 1: Standard homodyne with deterministic dissipation on Lindblad form"
   ]
  },
  {
   "cell_type": "code",
   "execution_count": null,
   "id": "b841b7d5",
   "metadata": {},
   "outputs": [],
   "source": [
    "eta = 0.95\n",
    "c_ops = [np.sqrt(1 - eta) * np.sqrt(gamma) * a]  # collapse operator B\n",
    "sc_ops = [np.sqrt(eta) * np.sqrt(gamma) * a]  # stochastic collapse operator A"
   ]
  },
  {
   "cell_type": "code",
   "execution_count": null,
   "id": "2db19bf3",
   "metadata": {},
   "outputs": [],
   "source": [
    "result_ref = mesolve(H, rho0, times, c_ops + sc_ops, e_ops)"
   ]
  },
  {
   "cell_type": "code",
   "execution_count": null,
   "id": "e85920ed",
   "metadata": {},
   "outputs": [],
   "source": [
    "result = smesolve(\n",
    "    H,\n",
    "    rho0,\n",
    "    times,\n",
    "    c_ops,\n",
    "    sc_ops,\n",
    "    e_ops,\n",
    "    ntraj=75,\n",
    "    nsubsteps=100,\n",
    "    solver=\"platen\",\n",
    "    method=\"homodyne\",\n",
    "    store_measurement=True,\n",
    "    map_func=parallel_map,\n",
    "    noise=111,\n",
    ")"
   ]
  },
  {
   "cell_type": "code",
   "execution_count": null,
   "id": "95454a13",
   "metadata": {},
   "outputs": [],
   "source": [
    "plot_expectation_values([result, result_ref]);"
   ]
  },
  {
   "cell_type": "code",
   "execution_count": null,
   "id": "d7e0a044",
   "metadata": {},
   "outputs": [],
   "source": [
    "fig, ax = plt.subplots(figsize=(8, 4))\n",
    "\n",
    "M = np.sqrt(eta * gamma)\n",
    "\n",
    "for m in result.measurement:\n",
    "    ax.plot(times, m[:, 0].real / M, \"b\", alpha=0.025)\n",
    "\n",
    "ax.plot(times, result_ref.expect[1], \"k\", lw=2)\n",
    "\n",
    "ax.set_ylim(-25, 25)\n",
    "ax.set_xlim(0, times.max())\n",
    "ax.set_xlabel(\"time\", fontsize=12)\n",
    "ax.plot(times,\n",
    "        np.array(result.measurement).mean(axis=0)[:, 0].real / M, \"b\", lw=2);"
   ]
  },
  {
   "cell_type": "markdown",
   "id": "0c451cad",
   "metadata": {},
   "source": [
    "### Form 2: Combined homodyne with deterministic dissipation for missed detection events"
   ]
  },
  {
   "cell_type": "markdown",
   "id": "401840ff",
   "metadata": {},
   "source": [
    "$\\displaystyle D_{1}[A]\\rho(t) = \\mathcal{D}[\\kappa a]\\rho(t) = \\mathcal{D}[A]\\rho(t)$"
   ]
  },
  {
   "cell_type": "code",
   "execution_count": null,
   "id": "32c73e34",
   "metadata": {},
   "outputs": [],
   "source": [
    "L = liouvillian(H, np.sqrt(gamma) * a)\n",
    "\n",
    "\n",
    "def d1_rho_func(t, rho_vec):\n",
    "    return L * rho_vec"
   ]
  },
  {
   "cell_type": "markdown",
   "id": "44bca49d",
   "metadata": {},
   "source": [
    "$\\displaystyle D_{2}[A]\\rho(t) = \\sqrt{\\eta} \\mathcal{H}[\\sqrt{\\kappa} a]\\rho(t) = \\sqrt{\\eta} \\mathcal{H}[A]\\rho(t) \n",
    "= \\sqrt{\\eta}(A\\rho + \\rho A^\\dagger - \\mathrm{Tr}[A\\rho + \\rho A^\\dagger] \\rho)\n",
    "\\rightarrow \\sqrt{\\eta} \\left((A_L +  A_R^\\dagger)\\rho_v - \\mathrm{Tr}[(A_L +  A_R^\\dagger)\\rho_v] \\rho_v\\right)$"
   ]
  },
  {
   "cell_type": "code",
   "execution_count": null,
   "id": "10a0b308",
   "metadata": {},
   "outputs": [],
   "source": [
    "n_sum = spre(np.sqrt(gamma) * a) + spost(np.sqrt(gamma) * a.dag())\n",
    "\n",
    "\n",
    "def d2_rho_func(t, rho_vec):\n",
    "    e1 = expect_rho_vec(n_sum.data, rho_vec, False)\n",
    "    return np.vstack([np.sqrt(eta) * (n_sum * rho_vec - e1 * rho_vec)])"
   ]
  },
  {
   "cell_type": "code",
   "execution_count": null,
   "id": "8831ce2d",
   "metadata": {},
   "outputs": [],
   "source": [
    "result_ref = mesolve(H, rho0, times, c_ops + sc_ops, e_ops)"
   ]
  },
  {
   "cell_type": "code",
   "execution_count": null,
   "id": "353b21f5",
   "metadata": {},
   "outputs": [],
   "source": [
    "result = general_stochastic(\n",
    "    ket2dm(rho0),\n",
    "    times,\n",
    "    e_ops=[spre(op) for op in e_ops],\n",
    "    ntraj=75,\n",
    "    nsubsteps=100,\n",
    "    solver=\"platen\",\n",
    "    d1=d1_rho_func,\n",
    "    d2=d2_rho_func,\n",
    "    len_d2=1,\n",
    "    m_ops=[spre(a + a.dag())],\n",
    "    dW_factors=[1 / np.sqrt(gamma * eta)],\n",
    "    store_measurement=True,\n",
    "    map_func=parallel_map,\n",
    "    noise=111,\n",
    ")"
   ]
  },
  {
   "cell_type": "code",
   "execution_count": null,
   "id": "416ccaf3",
   "metadata": {},
   "outputs": [],
   "source": [
    "plot_expectation_values([result, result_ref])"
   ]
  },
  {
   "cell_type": "code",
   "execution_count": null,
   "id": "53685e9b",
   "metadata": {},
   "outputs": [],
   "source": [
    "fig, ax = plt.subplots(figsize=(8, 4))\n",
    "\n",
    "for m in result.measurement:\n",
    "    ax.plot(times, m[:, 0].real, \"b\", alpha=0.025)\n",
    "\n",
    "ax.plot(times, result_ref.expect[1], \"k\", lw=2)\n",
    "\n",
    "ax.set_ylim(-25, 25)\n",
    "ax.set_xlim(0, times.max())\n",
    "ax.set_xlabel(\"time\", fontsize=12)\n",
    "ax.plot(times, np.array(result.measurement).mean(axis=0)[:, 0].real, \"b\", lw=2);"
   ]
  },
  {
   "cell_type": "markdown",
   "id": "b5132629",
   "metadata": {},
   "source": [
    "## Versions"
   ]
  },
  {
   "cell_type": "code",
   "execution_count": null,
   "id": "83a6af64",
   "metadata": {},
   "outputs": [],
   "source": [
    "about()"
   ]
  },
  {
   "cell_type": "code",
   "execution_count": null,
   "id": "307b0469",
   "metadata": {},
   "outputs": [],
   "source": []
  }
 ],
 "metadata": {
  "jupytext": {
   "cell_metadata_filter": "-all",
   "notebook_metadata_filter": "-jupytext.cell_metadata_filter,-jupytext.notebook_metadata_filter"
  },
  "kernelspec": {
   "display_name": "Python 3 (ipykernel)",
   "language": "python",
   "name": "python3"
  }
 },
 "nbformat": 4,
 "nbformat_minor": 5
}
