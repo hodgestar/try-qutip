{
 "cells": [
  {
   "cell_type": "markdown",
   "id": "a2965eee",
   "metadata": {},
   "source": [
    "# Bloch Sphere with colorbar"
   ]
  },
  {
   "cell_type": "code",
   "execution_count": null,
   "id": "3e121f0b",
   "metadata": {},
   "outputs": [],
   "source": [
    "import matplotlib as mpl\n",
    "import numpy as np\n",
    "from matplotlib import cm\n",
    "from qutip import Bloch, about, basis, destroy, sesolve, sigmax, sigmay, sigmaz\n",
    "\n",
    "%matplotlib inline"
   ]
  },
  {
   "cell_type": "markdown",
   "id": "96603e94",
   "metadata": {},
   "source": [
    "## Do a closed Landau-Zener Evolution"
   ]
  },
  {
   "cell_type": "code",
   "execution_count": null,
   "id": "bbc82697",
   "metadata": {},
   "outputs": [],
   "source": [
    "delta = 0.5 * 2 * np.pi\n",
    "v = 2.0 * 2 * np.pi  # sweep rate\n",
    "\n",
    "H0 = delta / 2.0 * sigmax()\n",
    "H1 = v / 2.0 * sigmaz()\n",
    "H = [H0, [H1, \"t\"]]\n",
    "psi0 = basis(2, 0)\n",
    "\n",
    "sm = destroy(2)\n",
    "sx = sigmax()\n",
    "sy = sigmay()\n",
    "sz = sigmaz()\n",
    "expt_ops = [sm.dag() * sm, sx, sy, sz]\n",
    "\n",
    "\n",
    "tlist = np.linspace(-10.0, 10.0, 1500)\n",
    "expt_list = sesolve(H, psi0, tlist, expt_ops).expect"
   ]
  },
  {
   "cell_type": "markdown",
   "id": "0f0efdce",
   "metadata": {},
   "source": [
    "## Generate a Bloch Sphere with Multi-Colored Points"
   ]
  },
  {
   "cell_type": "markdown",
   "id": "3ce5d93b",
   "metadata": {},
   "source": [
    "Note that I need to call `b.show` here so that I can grab a Figure instance later"
   ]
  },
  {
   "cell_type": "code",
   "execution_count": null,
   "id": "b2eafdd8",
   "metadata": {},
   "outputs": [],
   "source": [
    "b = Bloch()\n",
    "# normalize colors to times in tlist ##\n",
    "nrm = mpl.colors.Normalize(-2, 10)\n",
    "colors = cm.cool(nrm(tlist))\n",
    "\n",
    "# add data points from expectation values ##\n",
    "b.add_points([expt_list[1], expt_list[2], -expt_list[3]], \"m\")\n",
    "\n",
    "# customize sphere properties ##\n",
    "b.point_color = list(colors)\n",
    "b.point_marker = [\"o\"]\n",
    "b.point_size = [20]\n",
    "\n",
    "b.zlpos = [1.1, -1.2]\n",
    "\n",
    "b.show()"
   ]
  },
  {
   "cell_type": "markdown",
   "id": "46f0e26e",
   "metadata": {},
   "source": [
    "## Add  New Axis to Bloch Figure"
   ]
  },
  {
   "cell_type": "code",
   "execution_count": null,
   "id": "dd24bbb9",
   "metadata": {},
   "outputs": [],
   "source": [
    "left, bottom, width, height = [0.98, 0.05, 0.05, 0.9]\n",
    "ax2 = b.fig.add_axes([left, bottom, width, height])\n",
    "\n",
    "mpl.colorbar.ColorbarBase(ax2, cmap=cm.cool, norm=nrm, orientation=\"vertical\");"
   ]
  },
  {
   "cell_type": "markdown",
   "id": "be83ee53",
   "metadata": {},
   "source": [
    "## Plot with Colorbar Added"
   ]
  },
  {
   "cell_type": "markdown",
   "id": "e2f597dc",
   "metadata": {},
   "source": [
    "Currently I need to call `b.fig` as replotting figures in a notebook is a bit tricky.  However, this is likely to be improved in the future."
   ]
  },
  {
   "cell_type": "code",
   "execution_count": null,
   "id": "9eba6a03",
   "metadata": {},
   "outputs": [],
   "source": [
    "b.fig"
   ]
  },
  {
   "cell_type": "code",
   "execution_count": null,
   "id": "26dba9dd",
   "metadata": {},
   "outputs": [],
   "source": [
    "about()"
   ]
  }
 ],
 "metadata": {
  "jupytext": {
   "cell_metadata_filter": "-all",
   "notebook_metadata_filter": "-jupytext.cell_metadata_filter,-jupytext.notebook_metadata_filter"
  },
  "kernelspec": {
   "display_name": "Python 3 (ipykernel)",
   "language": "python",
   "name": "python3"
  }
 },
 "nbformat": 4,
 "nbformat_minor": 5
}
