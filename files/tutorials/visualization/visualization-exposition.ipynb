{
 "cells": [
  {
   "cell_type": "markdown",
   "id": "536e69b3",
   "metadata": {},
   "source": [
    "# Visualization demos"
   ]
  },
  {
   "cell_type": "code",
   "execution_count": null,
   "id": "24797bad",
   "metadata": {},
   "outputs": [],
   "source": [
    "import matplotlib.pyplot as plt\n",
    "import numpy as np\n",
    "import qutip as qt\n",
    "from qutip import about, basis, identity, sigmax, sigmay, sigmaz\n",
    "\n",
    "%matplotlib inline"
   ]
  },
  {
   "cell_type": "markdown",
   "id": "04d80ba9",
   "metadata": {},
   "source": [
    "## Hinton"
   ]
  },
  {
   "cell_type": "code",
   "execution_count": null,
   "id": "5f70476e",
   "metadata": {},
   "outputs": [],
   "source": [
    "rho = qt.rand_dm(5)"
   ]
  },
  {
   "cell_type": "code",
   "execution_count": null,
   "id": "caea2ac4",
   "metadata": {},
   "outputs": [],
   "source": [
    "qt.hinton(rho);"
   ]
  },
  {
   "cell_type": "markdown",
   "id": "77596944",
   "metadata": {},
   "source": [
    "## Sphereplot"
   ]
  },
  {
   "cell_type": "code",
   "execution_count": null,
   "id": "c2c19bfc",
   "metadata": {},
   "outputs": [],
   "source": [
    "theta = np.linspace(0, np.pi, 90)\n",
    "phi = np.linspace(0, 2 * np.pi, 60)"
   ]
  },
  {
   "cell_type": "code",
   "execution_count": null,
   "id": "f1f5de95",
   "metadata": {},
   "outputs": [],
   "source": [
    "qt.sphereplot(theta, phi, qt.orbital(theta, phi, basis(3, 0)).T);"
   ]
  },
  {
   "cell_type": "code",
   "execution_count": null,
   "id": "3e0d5257",
   "metadata": {},
   "outputs": [],
   "source": [
    "fig = plt.figure(figsize=(16, 4))\n",
    "\n",
    "ax = fig.add_subplot(1, 3, 1, projection=\"3d\")\n",
    "qt.sphereplot(theta, phi, qt.orbital(theta, phi, basis(3, 0)).T, fig, ax)\n",
    "\n",
    "ax = fig.add_subplot(1, 3, 2, projection=\"3d\")\n",
    "qt.sphereplot(theta, phi, qt.orbital(theta, phi, basis(3, 1)).T, fig, ax)\n",
    "\n",
    "ax = fig.add_subplot(1, 3, 3, projection=\"3d\")\n",
    "qt.sphereplot(theta, phi, qt.orbital(theta, phi, basis(3, 2)).T, fig, ax);"
   ]
  },
  {
   "cell_type": "markdown",
   "id": "61f7afb0",
   "metadata": {},
   "source": [
    "# Matrix histogram"
   ]
  },
  {
   "cell_type": "code",
   "execution_count": null,
   "id": "7426273b",
   "metadata": {},
   "outputs": [],
   "source": [
    "qt.matrix_histogram(rho.full().real);"
   ]
  },
  {
   "cell_type": "code",
   "execution_count": null,
   "id": "f413c887",
   "metadata": {},
   "outputs": [],
   "source": [
    "qt.matrix_histogram_complex(rho.full());"
   ]
  },
  {
   "cell_type": "markdown",
   "id": "30b747c9",
   "metadata": {},
   "source": [
    "# Plot energy levels"
   ]
  },
  {
   "cell_type": "code",
   "execution_count": null,
   "id": "674758cc",
   "metadata": {},
   "outputs": [],
   "source": [
    "H0 = qt.tensor(sigmaz(), identity(2)) + qt.tensor(identity(2), sigmaz())\n",
    "Hint = 0.1 * qt.tensor(sigmax(), sigmax())\n",
    "\n",
    "qt.plot_energy_levels([H0, Hint], figsize=(8, 4));"
   ]
  },
  {
   "cell_type": "markdown",
   "id": "e89d257e",
   "metadata": {},
   "source": [
    "# Plot Fock distribution"
   ]
  },
  {
   "cell_type": "code",
   "execution_count": null,
   "id": "6cd6784d",
   "metadata": {},
   "outputs": [],
   "source": [
    "rho = (qt.coherent(15, 1.5) + qt.coherent(15, -1.5)).unit()"
   ]
  },
  {
   "cell_type": "code",
   "execution_count": null,
   "id": "282814cd",
   "metadata": {},
   "outputs": [],
   "source": [
    "qt.plot_fock_distribution(rho);"
   ]
  },
  {
   "cell_type": "markdown",
   "id": "c798e91e",
   "metadata": {},
   "source": [
    "# Plot Wigner function and Fock distribution"
   ]
  },
  {
   "cell_type": "code",
   "execution_count": null,
   "id": "94ca5308",
   "metadata": {},
   "outputs": [],
   "source": [
    "qt.plot_wigner_fock_distribution(rho);"
   ]
  },
  {
   "cell_type": "markdown",
   "id": "99aef038",
   "metadata": {},
   "source": [
    "# Plot winger function"
   ]
  },
  {
   "cell_type": "code",
   "execution_count": null,
   "id": "3dd66d89",
   "metadata": {},
   "outputs": [],
   "source": [
    "qt.plot_wigner(rho, figsize=(6, 6));"
   ]
  },
  {
   "cell_type": "markdown",
   "id": "fefc6858",
   "metadata": {},
   "source": [
    "# Plot expectation values"
   ]
  },
  {
   "cell_type": "code",
   "execution_count": null,
   "id": "493a59e3",
   "metadata": {},
   "outputs": [],
   "source": [
    "H = sigmaz() + 0.3 * sigmay()\n",
    "e_ops = [sigmax(), sigmay(), sigmaz()]\n",
    "times = np.linspace(0, 10, 100)\n",
    "psi0 = (basis(2, 0) + basis(2, 1)).unit()\n",
    "result = qt.mesolve(H, psi0, times, [], e_ops)"
   ]
  },
  {
   "cell_type": "code",
   "execution_count": null,
   "id": "05b1400e",
   "metadata": {},
   "outputs": [],
   "source": [
    "qt.plot_expectation_values(result);"
   ]
  },
  {
   "cell_type": "markdown",
   "id": "1d59afb6",
   "metadata": {},
   "source": [
    "# Bloch sphere"
   ]
  },
  {
   "cell_type": "code",
   "execution_count": null,
   "id": "57373f76",
   "metadata": {},
   "outputs": [],
   "source": [
    "b = qt.Bloch()\n",
    "b.add_vectors(qt.expect(H.unit(), e_ops))\n",
    "b.add_points(result.expect, meth=\"l\")\n",
    "b.make_sphere()"
   ]
  },
  {
   "cell_type": "markdown",
   "id": "066d5dd7",
   "metadata": {},
   "source": [
    "# Plot spin Q-functions"
   ]
  },
  {
   "cell_type": "code",
   "execution_count": null,
   "id": "4438acdc",
   "metadata": {},
   "outputs": [],
   "source": [
    "j = 5\n",
    "psi = qt.spin_state(j, -j)\n",
    "psi = qt.spin_coherent(j, np.random.rand() * np.pi,\n",
    "                       np.random.rand() * 2 * np.pi)\n",
    "rho = qt.ket2dm(psi)"
   ]
  },
  {
   "cell_type": "code",
   "execution_count": null,
   "id": "251c2a60",
   "metadata": {},
   "outputs": [],
   "source": [
    "theta = np.linspace(0, np.pi, 50)\n",
    "phi = np.linspace(0, 2 * np.pi, 50)"
   ]
  },
  {
   "cell_type": "code",
   "execution_count": null,
   "id": "ad751575",
   "metadata": {},
   "outputs": [],
   "source": [
    "Q, THETA, PHI = qt.spin_q_function(psi, theta, phi)"
   ]
  },
  {
   "cell_type": "markdown",
   "id": "db878071",
   "metadata": {},
   "source": [
    "## 2D"
   ]
  },
  {
   "cell_type": "code",
   "execution_count": null,
   "id": "b0b73dd1",
   "metadata": {},
   "outputs": [],
   "source": [
    "qt.plot_spin_distribution_2d(Q, THETA, PHI);"
   ]
  },
  {
   "cell_type": "markdown",
   "id": "99a161b9",
   "metadata": {},
   "source": [
    "## 3D"
   ]
  },
  {
   "cell_type": "code",
   "execution_count": null,
   "id": "642ea9c4",
   "metadata": {},
   "outputs": [],
   "source": [
    "fig, ax = qt.plot_spin_distribution_3d(Q, THETA, PHI)\n",
    "\n",
    "ax.view_init(15, 30)"
   ]
  },
  {
   "cell_type": "markdown",
   "id": "6bfb6050",
   "metadata": {},
   "source": [
    "## Combined 2D and 3D"
   ]
  },
  {
   "cell_type": "code",
   "execution_count": null,
   "id": "2e8b393e",
   "metadata": {},
   "outputs": [],
   "source": [
    "fig = plt.figure(figsize=(14, 6))\n",
    "\n",
    "ax = fig.add_subplot(1, 2, 1)\n",
    "f1, a1 = qt.plot_spin_distribution_2d(Q, THETA, PHI, fig=fig, ax=ax)\n",
    "\n",
    "ax = fig.add_subplot(1, 2, 2, projection=\"3d\")\n",
    "f2, a2 = qt.plot_spin_distribution_3d(Q, THETA, PHI, fig=fig, ax=ax)"
   ]
  },
  {
   "cell_type": "markdown",
   "id": "a32f3488",
   "metadata": {},
   "source": [
    "# Plot spin-Wigner functions"
   ]
  },
  {
   "cell_type": "code",
   "execution_count": null,
   "id": "4e1a154c",
   "metadata": {},
   "outputs": [],
   "source": [
    "W, THETA, PHI = qt.spin_wigner(psi, theta, phi)"
   ]
  },
  {
   "cell_type": "code",
   "execution_count": null,
   "id": "57d26348",
   "metadata": {},
   "outputs": [],
   "source": [
    "fig = plt.figure(figsize=(14, 6))\n",
    "\n",
    "ax = fig.add_subplot(1, 2, 1)\n",
    "f1, a1 = qt.plot_spin_distribution_2d(W.real, THETA, PHI, fig=fig, ax=ax)\n",
    "\n",
    "ax = fig.add_subplot(1, 2, 2, projection=\"3d\")\n",
    "f2, a2 = qt.plot_spin_distribution_3d(W.real, THETA, PHI, fig=fig, ax=ax)"
   ]
  },
  {
   "cell_type": "markdown",
   "id": "b5436832",
   "metadata": {},
   "source": [
    "# Versions"
   ]
  },
  {
   "cell_type": "code",
   "execution_count": null,
   "id": "55e4230a",
   "metadata": {},
   "outputs": [],
   "source": [
    "about()"
   ]
  }
 ],
 "metadata": {
  "jupytext": {
   "cell_metadata_filter": "-all",
   "notebook_metadata_filter": "-jupytext.cell_metadata_filter,-jupytext.notebook_metadata_filter"
  },
  "kernelspec": {
   "display_name": "Python 3 (ipykernel)",
   "language": "python",
   "name": "python3"
  }
 },
 "nbformat": 4,
 "nbformat_minor": 5
}
