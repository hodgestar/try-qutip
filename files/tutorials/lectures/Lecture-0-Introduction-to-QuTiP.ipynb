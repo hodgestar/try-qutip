{
 "cells": [
  {
   "cell_type": "markdown",
   "id": "8ab67704",
   "metadata": {},
   "source": [
    "# Lecture 0 - Introduction to QuTiP\n",
    "\n",
    "Author: J. R. Johansson (robert@riken.jp), https://jrjohansson.github.io/\n",
    "\n",
    "This lecture series was developed by J.R. Johannson. The original lecture notebooks are available [here](https://github.com/jrjohansson/qutip-lectures).\n",
    "\n",
    "This is a slightly modified version of the lectures, to work with the current release of QuTiP. You can find these lectures as a part of the [qutip-tutorials repository](https://github.com/qutip/qutip-tutorials). This lecture and other tutorial notebooks are indexed at the [QuTiP Tutorial webpage](https://qutip.org/tutorials.html)."
   ]
  },
  {
   "cell_type": "code",
   "execution_count": null,
   "id": "0cf27f33",
   "metadata": {},
   "outputs": [],
   "source": [
    "import matplotlib.pyplot as plt\n",
    "import numpy as np\n",
    "from IPython.display import Image\n",
    "from qutip import (Qobj, about, basis, coherent, coherent_dm, create, destroy,\n",
    "                   expect, fock, fock_dm, mesolve, qeye, sigmax, sigmay,\n",
    "                   sigmaz, tensor, thermal_dm)\n",
    "\n",
    "%matplotlib inline"
   ]
  },
  {
   "cell_type": "markdown",
   "id": "0e75d04f",
   "metadata": {},
   "source": [
    "## Introduction\n",
    "\n",
    "QuTiP is a python package for calculations and numerical simulations of quantum systems. \n",
    "\n",
    "It includes facilities for representing and doing calculations with quantum objects such state vectors (wavefunctions), as bras/kets/density matrices, quantum operators of single and composite systems, and superoperators (useful for defining master equations).\n",
    "\n",
    "It also includes solvers for a time-evolution of quantum systems, according to: Schrodinger equation, von Neuman equation, master equations, Floquet formalism, Monte-Carlo quantum trajectors, experimental implementations of the stochastic Schrodinger/master equations.\n",
    "\n",
    "For more information see the project web site at [qutip.org](https://qutip.org), and the \n",
    "[QuTiP documentation](https://qutip.org/docs/latest/index.html).\n",
    "\n",
    "### Installation\n",
    "\n",
    "You can install QuTiP directly from `pip` by running:\n",
    "\n",
    "`pip install qutip`\n",
    "\n",
    "For further installation details, refer to the [GitHub repository](https://github.com/qutip/qutip)."
   ]
  },
  {
   "cell_type": "markdown",
   "id": "d018d3a7",
   "metadata": {},
   "source": [
    "To use QuTiP in a Python program, first inlude the relevant functionality from the `qutip` module:"
   ]
  },
  {
   "cell_type": "code",
   "execution_count": null,
   "id": "999a6b78",
   "metadata": {},
   "outputs": [],
   "source": []
  },
  {
   "cell_type": "markdown",
   "id": "5d766895",
   "metadata": {},
   "source": [
    "This will make the functions and classes in QuTiP available in the rest of the program."
   ]
  },
  {
   "cell_type": "markdown",
   "id": "188abb9c",
   "metadata": {},
   "source": [
    "## Quantum object class: `qobj`\n",
    "\n",
    "At the heart of the QuTiP package is the `Qobj` class, which is used for representing quantum object such as states and operator. \n",
    "\n",
    "The `Qobj` class contains all the information required to describe a quantum system, such as its matrix representation, composite structure and dimensionality."
   ]
  },
  {
   "cell_type": "code",
   "execution_count": null,
   "id": "8cbc3b71",
   "metadata": {},
   "outputs": [],
   "source": [
    "Image(filename=\"images/qobj.png\")"
   ]
  },
  {
   "cell_type": "markdown",
   "id": "4e6f7a67",
   "metadata": {},
   "source": [
    "### Creating and inspecting quantum objects"
   ]
  },
  {
   "cell_type": "markdown",
   "id": "660c1b8e",
   "metadata": {},
   "source": [
    "We can create a new quantum object using the `Qobj` class constructor, like this:"
   ]
  },
  {
   "cell_type": "code",
   "execution_count": null,
   "id": "f01b1cd6",
   "metadata": {},
   "outputs": [],
   "source": [
    "q = Qobj([[1], [0]])\n",
    "\n",
    "q"
   ]
  },
  {
   "cell_type": "markdown",
   "id": "105024fc",
   "metadata": {},
   "source": [
    "Here we passed python list as an argument to the class constructor. The data in this list is used to construct the matrix representation of the quantum objects, and the other properties of the quantum object is by default computed from the same data.\n",
    "\n",
    "We can inspect the properties of a `Qobj` instance using the following class method:"
   ]
  },
  {
   "cell_type": "code",
   "execution_count": null,
   "id": "2d02750d",
   "metadata": {},
   "outputs": [],
   "source": [
    "# the dimension, or composite Hilbert state space structure\n",
    "q.dims"
   ]
  },
  {
   "cell_type": "code",
   "execution_count": null,
   "id": "88c3f73a",
   "metadata": {},
   "outputs": [],
   "source": [
    "# the shape of the matrix data representation\n",
    "q.shape"
   ]
  },
  {
   "cell_type": "code",
   "execution_count": null,
   "id": "1f0443bf",
   "metadata": {},
   "outputs": [],
   "source": [
    "# the matrix data itself. in sparse matrix format.\n",
    "q.data"
   ]
  },
  {
   "cell_type": "code",
   "execution_count": null,
   "id": "7da4e9f6",
   "metadata": {},
   "outputs": [],
   "source": [
    "# get the dense matrix representation\n",
    "q.full()"
   ]
  },
  {
   "cell_type": "code",
   "execution_count": null,
   "id": "6b483fd1",
   "metadata": {},
   "outputs": [],
   "source": [
    "# some additional properties\n",
    "q.isherm, q.type"
   ]
  },
  {
   "cell_type": "markdown",
   "id": "2cf3f692",
   "metadata": {},
   "source": [
    "### Using `Qobj` instances for calculations\n",
    "\n",
    "With `Qobj` instances we can do arithmetic and apply a number of different operations using class methods:"
   ]
  },
  {
   "cell_type": "code",
   "execution_count": null,
   "id": "067537a7",
   "metadata": {},
   "outputs": [],
   "source": [
    "sy = Qobj([[0, -1j], [1j, 0]])  # the sigma-y Pauli operator\n",
    "\n",
    "sy"
   ]
  },
  {
   "cell_type": "code",
   "execution_count": null,
   "id": "2eafb297",
   "metadata": {},
   "outputs": [],
   "source": [
    "sz = Qobj([[1, 0], [0, -1]])  # the sigma-z Pauli operator\n",
    "\n",
    "sz"
   ]
  },
  {
   "cell_type": "code",
   "execution_count": null,
   "id": "b59cf902",
   "metadata": {},
   "outputs": [],
   "source": [
    "# some arithmetic with quantum objects\n",
    "\n",
    "H = 1.0 * sz + 0.1 * sy\n",
    "\n",
    "print(\"Qubit Hamiltonian = \\n\")\n",
    "H"
   ]
  },
  {
   "cell_type": "markdown",
   "id": "c8b88707",
   "metadata": {},
   "source": [
    "Example of modifying quantum objects using the `Qobj` methods:"
   ]
  },
  {
   "cell_type": "code",
   "execution_count": null,
   "id": "23bb7fab",
   "metadata": {},
   "outputs": [],
   "source": [
    "# The hermitian conjugate\n",
    "sy.dag()"
   ]
  },
  {
   "cell_type": "code",
   "execution_count": null,
   "id": "b2bedc12",
   "metadata": {},
   "outputs": [],
   "source": [
    "# The trace\n",
    "H.tr()"
   ]
  },
  {
   "cell_type": "code",
   "execution_count": null,
   "id": "f84fa714",
   "metadata": {},
   "outputs": [],
   "source": [
    "# Eigen energies\n",
    "H.eigenenergies()"
   ]
  },
  {
   "cell_type": "markdown",
   "id": "073fc4f6",
   "metadata": {},
   "source": [
    "For a complete list of methods and properties of the `Qobj` class, see the [QuTiP documentation](https://qutip.org/docs/latest/index.html) or try `help(Qobj)` or `dir(Qobj)`."
   ]
  },
  {
   "cell_type": "markdown",
   "id": "ead35778",
   "metadata": {},
   "source": [
    "## States and operators\n",
    "\n",
    "Normally we do not need to create `Qobj` instances from stratch, using its constructor and passing its matrix represantation as argument. Instead we can use functions in QuTiP that generates common states and operators for us. Here are some examples of built-in state functions:\n",
    "\n",
    "### State vectors"
   ]
  },
  {
   "cell_type": "code",
   "execution_count": null,
   "id": "3ac2e6b3",
   "metadata": {},
   "outputs": [],
   "source": [
    "# Fundamental basis states (Fock states of oscillator modes)\n",
    "\n",
    "N = 2  # number of states in the Hilbert space\n",
    "n = 1  # the state that will be occupied\n",
    "\n",
    "basis(N, n)  # equivalent to fock(N, n)"
   ]
  },
  {
   "cell_type": "code",
   "execution_count": null,
   "id": "31b8da8b",
   "metadata": {},
   "outputs": [],
   "source": [
    "fock(4, 2)  # another example"
   ]
  },
  {
   "cell_type": "code",
   "execution_count": null,
   "id": "4c85dd81",
   "metadata": {},
   "outputs": [],
   "source": [
    "# a coherent state\n",
    "coherent(N=10, alpha=1.0)"
   ]
  },
  {
   "cell_type": "markdown",
   "id": "7220c81e",
   "metadata": {},
   "source": [
    "### Density matrices"
   ]
  },
  {
   "cell_type": "code",
   "execution_count": null,
   "id": "61a57b07",
   "metadata": {},
   "outputs": [],
   "source": [
    "# a fock state as density matrix\n",
    "fock_dm(5, 2)  # 5 = hilbert space size, 2 = state that is occupied"
   ]
  },
  {
   "cell_type": "code",
   "execution_count": null,
   "id": "599a1fab",
   "metadata": {},
   "outputs": [],
   "source": [
    "# coherent state as density matrix\n",
    "coherent_dm(N=8, alpha=1.0)"
   ]
  },
  {
   "cell_type": "code",
   "execution_count": null,
   "id": "5e1e5256",
   "metadata": {},
   "outputs": [],
   "source": [
    "# thermal state\n",
    "n = 1  # average number of thermal photons\n",
    "thermal_dm(8, n)"
   ]
  },
  {
   "cell_type": "markdown",
   "id": "856c16ad",
   "metadata": {},
   "source": [
    "### Operators"
   ]
  },
  {
   "cell_type": "markdown",
   "id": "9ca53956",
   "metadata": {},
   "source": [
    "#### Qubit (two-level system) operators"
   ]
  },
  {
   "cell_type": "code",
   "execution_count": null,
   "id": "c8f4c7db",
   "metadata": {},
   "outputs": [],
   "source": [
    "# Pauli sigma x\n",
    "sigmax()"
   ]
  },
  {
   "cell_type": "code",
   "execution_count": null,
   "id": "f5139eb6",
   "metadata": {},
   "outputs": [],
   "source": [
    "# Pauli sigma y\n",
    "sigmay()"
   ]
  },
  {
   "cell_type": "code",
   "execution_count": null,
   "id": "ce8de39d",
   "metadata": {},
   "outputs": [],
   "source": [
    "# Pauli sigma z\n",
    "sigmaz()"
   ]
  },
  {
   "cell_type": "markdown",
   "id": "ce9dfe6e",
   "metadata": {},
   "source": [
    "#### Harmonic oscillator operators"
   ]
  },
  {
   "cell_type": "code",
   "execution_count": null,
   "id": "478ccc91",
   "metadata": {},
   "outputs": [],
   "source": [
    "#  annihilation operator\n",
    "\n",
    "destroy(N=8)  # N = number of fock states included in the Hilbert space"
   ]
  },
  {
   "cell_type": "code",
   "execution_count": null,
   "id": "83c2efd9",
   "metadata": {},
   "outputs": [],
   "source": [
    "# creation operator\n",
    "\n",
    "create(N=8)  # equivalent to destroy(5).dag()"
   ]
  },
  {
   "cell_type": "code",
   "execution_count": null,
   "id": "424a468a",
   "metadata": {},
   "outputs": [],
   "source": [
    "# the position operator is easily constructed from the annihilation operator\n",
    "a = destroy(8)\n",
    "\n",
    "x = a + a.dag()\n",
    "\n",
    "x"
   ]
  },
  {
   "cell_type": "markdown",
   "id": "a576fae4",
   "metadata": {},
   "source": [
    "#### Using `Qobj` instances we can check some well known commutation relations:"
   ]
  },
  {
   "cell_type": "code",
   "execution_count": null,
   "id": "df9ae851",
   "metadata": {},
   "outputs": [],
   "source": [
    "def commutator(op1, op2):\n",
    "    return op1 * op2 - op2 * op1"
   ]
  },
  {
   "cell_type": "markdown",
   "id": "25b3f8fc",
   "metadata": {},
   "source": [
    "$[a, a^1] = 1$"
   ]
  },
  {
   "cell_type": "code",
   "execution_count": null,
   "id": "af0deb17",
   "metadata": {},
   "outputs": [],
   "source": [
    "a = destroy(5)\n",
    "\n",
    "commutator(a, a.dag())"
   ]
  },
  {
   "cell_type": "markdown",
   "id": "9edc99d6",
   "metadata": {},
   "source": [
    "**Ops...** The result is not identity! Why? Because we have truncated the Hilbert space. But that's OK as long as the highest Fock state isn't involved in the dynamics in our truncated Hilbert space. If it is, the approximation that the truncation introduces might be a problem."
   ]
  },
  {
   "cell_type": "markdown",
   "id": "76e6afb5",
   "metadata": {},
   "source": [
    "$[x,p] = i$"
   ]
  },
  {
   "cell_type": "code",
   "execution_count": null,
   "id": "5f47c99d",
   "metadata": {},
   "outputs": [],
   "source": [
    "x = (a + a.dag()) / np.sqrt(2)\n",
    "p = -1j * (a - a.dag()) / np.sqrt(2)"
   ]
  },
  {
   "cell_type": "code",
   "execution_count": null,
   "id": "3ad116e2",
   "metadata": {},
   "outputs": [],
   "source": [
    "commutator(x, p)"
   ]
  },
  {
   "cell_type": "markdown",
   "id": "52532d3a",
   "metadata": {},
   "source": [
    "Same issue with the truncated Hilbert space, but otherwise OK."
   ]
  },
  {
   "cell_type": "markdown",
   "id": "422b6135",
   "metadata": {},
   "source": [
    "Let's try some Pauli spin inequalities\n",
    "\n",
    "$[\\sigma_x, \\sigma_y] = 2i \\sigma_z$"
   ]
  },
  {
   "cell_type": "code",
   "execution_count": null,
   "id": "ee5f69a9",
   "metadata": {},
   "outputs": [],
   "source": [
    "commutator(sigmax(), sigmay()) - 2j * sigmaz()"
   ]
  },
  {
   "cell_type": "markdown",
   "id": "e7c43c11",
   "metadata": {},
   "source": [
    "$-i \\sigma_x \\sigma_y \\sigma_z = \\mathbf{1}$"
   ]
  },
  {
   "cell_type": "code",
   "execution_count": null,
   "id": "2b4d3fe9",
   "metadata": {},
   "outputs": [],
   "source": [
    "-1j * sigmax() * sigmay() * sigmaz()"
   ]
  },
  {
   "cell_type": "markdown",
   "id": "227f9bd2",
   "metadata": {},
   "source": [
    "$\\sigma_x^2 = \\sigma_y^2 = \\sigma_z^2 = \\mathbf{1}$"
   ]
  },
  {
   "cell_type": "code",
   "execution_count": null,
   "id": "ea83a72e",
   "metadata": {},
   "outputs": [],
   "source": [
    "sigmax() ** 2 == sigmay() ** 2 == sigmaz() ** 2 == qeye(2)"
   ]
  },
  {
   "cell_type": "markdown",
   "id": "82c3c35e",
   "metadata": {},
   "source": [
    "## Composite systems\n",
    "\n",
    "In most cases we are interested in coupled quantum systems, for example coupled qubits, a qubit coupled to a cavity (oscillator mode), etc.\n",
    "\n",
    "To define states and operators for such systems in QuTiP, we use the `tensor` function to create `Qobj` instances for the composite system.\n",
    "\n",
    "For example, consider a system composed of two qubits. If we want to create a Pauli $\\sigma_z$ operator that acts on the first qubit and leaves the second qubit unaffected (i.e., the operator $\\sigma_z \\otimes \\mathbf{1}$), we would do:"
   ]
  },
  {
   "cell_type": "code",
   "execution_count": null,
   "id": "eaaae8f8",
   "metadata": {},
   "outputs": [],
   "source": [
    "sz1 = tensor(sigmaz(), qeye(2))\n",
    "\n",
    "sz1"
   ]
  },
  {
   "cell_type": "markdown",
   "id": "ae035f72",
   "metadata": {},
   "source": [
    "We can easily verify that this two-qubit operator does indeed have the desired properties:"
   ]
  },
  {
   "cell_type": "code",
   "execution_count": null,
   "id": "85836fa8",
   "metadata": {},
   "outputs": [],
   "source": [
    "psi1 = tensor(basis(N, 1), basis(N, 0))  # excited first qubit\n",
    "psi2 = tensor(basis(N, 0), basis(N, 1))  # excited second qubit"
   ]
  },
  {
   "cell_type": "code",
   "execution_count": null,
   "id": "6a642c16",
   "metadata": {},
   "outputs": [],
   "source": [
    "# this should not be true,\n",
    "# because sz1 should flip the sign of the excited state of psi1\n",
    "sz1 * psi1 == psi1"
   ]
  },
  {
   "cell_type": "code",
   "execution_count": null,
   "id": "f94c7361",
   "metadata": {},
   "outputs": [],
   "source": [
    "# this should be true, because sz1 should leave psi2 unaffected\n",
    "sz1 * psi2 == psi2"
   ]
  },
  {
   "cell_type": "markdown",
   "id": "19b5f290",
   "metadata": {},
   "source": [
    "Above we used the `qeye(N)` function, which generates the identity operator with `N` quantum states. If we want to do the same thing for the second qubit we can do:"
   ]
  },
  {
   "cell_type": "code",
   "execution_count": null,
   "id": "4dc127a3",
   "metadata": {},
   "outputs": [],
   "source": [
    "sz2 = tensor(qeye(2), sigmaz())\n",
    "\n",
    "sz2"
   ]
  },
  {
   "cell_type": "markdown",
   "id": "6cf91fbe",
   "metadata": {},
   "source": [
    "Note the order of the argument to the `tensor` function, and the correspondingly different matrix representation of the two operators `sz1` and `sz2`.\n",
    "\n",
    "Using the same method we can create coupling terms of the form $\\sigma_x \\otimes \\sigma_x$:"
   ]
  },
  {
   "cell_type": "code",
   "execution_count": null,
   "id": "4a91a2a5",
   "metadata": {},
   "outputs": [],
   "source": [
    "tensor(sigmax(), sigmax())"
   ]
  },
  {
   "cell_type": "markdown",
   "id": "cdb66e6a",
   "metadata": {},
   "source": [
    "Now we are ready to create a `Qobj` representation of a coupled two-qubit Hamiltonian: $H = \\epsilon_1 \\sigma_z^{(1)} + \\epsilon_2 \\sigma_z^{(2)} + g \\sigma_x^{(1)}\\sigma_x^{(2)}$"
   ]
  },
  {
   "cell_type": "code",
   "execution_count": null,
   "id": "c5f303d4",
   "metadata": {},
   "outputs": [],
   "source": [
    "epsilon = [1.0, 1.0]\n",
    "g = 0.1\n",
    "\n",
    "sz1 = tensor(sigmaz(), qeye(2))\n",
    "sz2 = tensor(qeye(2), sigmaz())\n",
    "\n",
    "H = epsilon[0] * sz1 + epsilon[1] * sz2 + g * tensor(sigmax(), sigmax())\n",
    "\n",
    "H"
   ]
  },
  {
   "cell_type": "markdown",
   "id": "54c1eee0",
   "metadata": {},
   "source": [
    "To create composite systems of different types, all we need to do is to change the operators that we pass to the `tensor` function (which can take an arbitrary number of operator for composite systems with many components).\n",
    "\n",
    "For example, the Jaynes-Cumming Hamiltonian for a qubit-cavity system:\n",
    "\n",
    "$H = \\omega_c a^\\dagger a - \\frac{1}{2}\\omega_a \\sigma_z + g (a \\sigma_+ + a^\\dagger \\sigma_-)$"
   ]
  },
  {
   "cell_type": "code",
   "execution_count": null,
   "id": "e77ed419",
   "metadata": {},
   "outputs": [],
   "source": [
    "wc = 1.0  # cavity frequency\n",
    "wa = 1.0  # qubit/atom frenqency\n",
    "g = 0.1  # coupling strength\n",
    "\n",
    "# cavity mode operator\n",
    "a = tensor(destroy(5), qeye(2))\n",
    "\n",
    "# qubit/atom operators\n",
    "sz = tensor(qeye(5), sigmaz())  # sigma-z operator\n",
    "sm = tensor(qeye(5), destroy(2))  # sigma-minus operator\n",
    "\n",
    "# the Jaynes-Cumming Hamiltonian\n",
    "H = wc * a.dag() * a - 0.5 * wa * sz + g * (a * sm.dag() + a.dag() * sm)\n",
    "\n",
    "H"
   ]
  },
  {
   "cell_type": "markdown",
   "id": "8ebdc17d",
   "metadata": {},
   "source": [
    "Note that \n",
    "\n",
    "$a \\sigma_+ = (a \\otimes \\mathbf{1}) (\\mathbf{1} \\otimes \\sigma_+)$\n",
    "\n",
    "so the following two are identical:"
   ]
  },
  {
   "cell_type": "code",
   "execution_count": null,
   "id": "d3e9b5af",
   "metadata": {},
   "outputs": [],
   "source": [
    "a = tensor(destroy(3), qeye(2))\n",
    "sp = tensor(qeye(3), create(2))\n",
    "\n",
    "a * sp"
   ]
  },
  {
   "cell_type": "code",
   "execution_count": null,
   "id": "449be894",
   "metadata": {},
   "outputs": [],
   "source": [
    "tensor(destroy(3), create(2))"
   ]
  },
  {
   "cell_type": "markdown",
   "id": "32df0093",
   "metadata": {},
   "source": [
    "## Unitary dynamics\n",
    "\n",
    "Unitary evolution of a quantum system in QuTiP can be calculated with the `mesolve` function. \n",
    "\n",
    "`mesolve` is short for Master-eqaution solve (for dissipative dynamics), but if no collapse operators (which describe the dissipation) are given to the solve it falls back on the unitary evolution of the Schrodinger (for initial states in state vector for) or the von Neuman equation (for initial states in density matrix form).\n",
    "\n",
    "The evolution solvers in QuTiP returns a class of type `Odedata`, which contains the solution to the problem posed to the evolution solver. \n",
    "\n",
    "For example, considor a qubit with Hamiltonian $H = \\sigma_x$ and initial state $\\left|1\\right>$ (in the sigma-z basis): Its evolution can be calculated as follows:"
   ]
  },
  {
   "cell_type": "code",
   "execution_count": null,
   "id": "2811fc5d",
   "metadata": {},
   "outputs": [],
   "source": [
    "# Hamiltonian\n",
    "H = sigmax()\n",
    "\n",
    "# initial state\n",
    "psi0 = basis(2, 0)\n",
    "\n",
    "# list of times for which the solver should store the state vector\n",
    "tlist = np.linspace(0, 10, 100)\n",
    "\n",
    "result = mesolve(H, psi0, tlist, [], [])"
   ]
  },
  {
   "cell_type": "code",
   "execution_count": null,
   "id": "6b4e36f5",
   "metadata": {},
   "outputs": [],
   "source": [
    "result"
   ]
  },
  {
   "cell_type": "markdown",
   "id": "c74a6375",
   "metadata": {},
   "source": [
    "The `result` object contains a list of the wavefunctions at the times requested with the `tlist` array. "
   ]
  },
  {
   "cell_type": "code",
   "execution_count": null,
   "id": "aa7a81af",
   "metadata": {},
   "outputs": [],
   "source": [
    "len(result.states)"
   ]
  },
  {
   "cell_type": "code",
   "execution_count": null,
   "id": "b9066c57",
   "metadata": {},
   "outputs": [],
   "source": [
    "result.states[-1]  # the finial state"
   ]
  },
  {
   "cell_type": "markdown",
   "id": "dea71ccd",
   "metadata": {},
   "source": [
    "### Expectation values\n",
    "\n",
    "The expectation values of an operator given a state vector or density matrix (or list thereof) can be calculated using the `expect` function. "
   ]
  },
  {
   "cell_type": "code",
   "execution_count": null,
   "id": "b9f95f6d",
   "metadata": {},
   "outputs": [],
   "source": [
    "expect(sigmaz(), result.states[-1])"
   ]
  },
  {
   "cell_type": "code",
   "execution_count": null,
   "id": "2bd27a00",
   "metadata": {},
   "outputs": [],
   "source": [
    "expect(sigmaz(), result.states)"
   ]
  },
  {
   "cell_type": "code",
   "execution_count": null,
   "id": "b5f5996c",
   "metadata": {},
   "outputs": [],
   "source": [
    "fig, axes = plt.subplots(1, 1)\n",
    "\n",
    "axes.plot(tlist, expect(sigmaz(), result.states))\n",
    "\n",
    "axes.set_xlabel(r\"$t$\", fontsize=20)\n",
    "axes.set_ylabel(r\"$\\left<\\sigma_z\\right>$\", fontsize=20);"
   ]
  },
  {
   "cell_type": "markdown",
   "id": "6ce4b524",
   "metadata": {},
   "source": [
    "If we are only interested in expectation values, we could pass a list of operators to the `mesolve` function that we want expectation values for, and have the solver compute then and store the results in the `Odedata` class instance that it returns.\n",
    "\n",
    "For example, to request that the solver calculates the expectation values for the operators $\\sigma_x, \\sigma_y, \\sigma_z$:"
   ]
  },
  {
   "cell_type": "code",
   "execution_count": null,
   "id": "95edf7da",
   "metadata": {},
   "outputs": [],
   "source": [
    "result = mesolve(H, psi0, tlist, [], [sigmax(), sigmay(), sigmaz()])"
   ]
  },
  {
   "cell_type": "markdown",
   "id": "4dc21e82",
   "metadata": {},
   "source": [
    "Now the expectation values are available in `result.expect[0]`, `result.expect[1]`, and `result.expect[2]`:"
   ]
  },
  {
   "cell_type": "code",
   "execution_count": null,
   "id": "b36364e9",
   "metadata": {},
   "outputs": [],
   "source": [
    "fig, axes = plt.subplots(1, 1)\n",
    "\n",
    "axes.plot(tlist, result.expect[2], label=r\"$\\left<\\sigma_z\\right>$\")\n",
    "axes.plot(tlist, result.expect[1], label=r\"$\\left<\\sigma_y\\right>$\")\n",
    "axes.plot(tlist, result.expect[0], label=r\"$\\left<\\sigma_x\\right>$\")\n",
    "\n",
    "axes.set_xlabel(r\"$t$\", fontsize=20)\n",
    "axes.legend(loc=2);"
   ]
  },
  {
   "cell_type": "markdown",
   "id": "9d476b23",
   "metadata": {},
   "source": [
    "## Dissipative dynamics\n",
    "\n",
    "To add dissipation to a problem, all we need to do is to define a list of collapse operators to the call to the `mesolve` solver.\n",
    "\n",
    "A collapse operator is an operator that describes how the system is interacting with its environment. \n",
    "\n",
    "For example, consider a quantum harmonic oscillator with Hamiltonian \n",
    "\n",
    "$H = \\hbar\\omega a^\\dagger a$\n",
    "\n",
    "and which loses photons to its environment with a relaxation rate $\\kappa$. The collapse operator that describes this process is \n",
    "\n",
    "$\\sqrt{\\kappa} a$\n",
    "\n",
    "since $a$ is the photon annihilation operator of the oscillator. \n",
    "\n",
    "To program this problem in QuTiP:"
   ]
  },
  {
   "cell_type": "code",
   "execution_count": null,
   "id": "11949b0c",
   "metadata": {},
   "outputs": [],
   "source": [
    "w = 1.0  # oscillator frequency\n",
    "kappa = 0.1  # relaxation rate\n",
    "a = destroy(10)  # oscillator annihilation operator\n",
    "rho0 = fock_dm(10, 5)  # initial state, fock state with 5 photons\n",
    "H = w * a.dag() * a  # Hamiltonian\n",
    "\n",
    "# A list of collapse operators\n",
    "c_ops = [np.sqrt(kappa) * a]"
   ]
  },
  {
   "cell_type": "code",
   "execution_count": null,
   "id": "c3b4e565",
   "metadata": {},
   "outputs": [],
   "source": [
    "tlist = np.linspace(0, 50, 100)\n",
    "\n",
    "# request that the solver return the expectation value\n",
    "# of the photon number state operator a.dag() * a\n",
    "result = mesolve(H, rho0, tlist, c_ops, [a.dag() * a])"
   ]
  },
  {
   "cell_type": "code",
   "execution_count": null,
   "id": "f89bb5be",
   "metadata": {},
   "outputs": [],
   "source": [
    "fig, axes = plt.subplots(1, 1)\n",
    "axes.plot(tlist, result.expect[0])\n",
    "axes.set_xlabel(r\"$t$\", fontsize=20)\n",
    "axes.set_ylabel(r\"Photon number\", fontsize=16);"
   ]
  },
  {
   "cell_type": "markdown",
   "id": "fc757999",
   "metadata": {},
   "source": [
    "### Installation information"
   ]
  },
  {
   "cell_type": "code",
   "execution_count": null,
   "id": "03aa5d9b",
   "metadata": {},
   "outputs": [],
   "source": [
    "about()"
   ]
  }
 ],
 "metadata": {
  "jupytext": {
   "cell_metadata_filter": "-all",
   "notebook_metadata_filter": "-jupytext.cell_metadata_filter,-jupytext.notebook_metadata_filter"
  },
  "kernelspec": {
   "display_name": "Python 3 (ipykernel)",
   "language": "python",
   "name": "python3"
  }
 },
 "nbformat": 4,
 "nbformat_minor": 5
}
