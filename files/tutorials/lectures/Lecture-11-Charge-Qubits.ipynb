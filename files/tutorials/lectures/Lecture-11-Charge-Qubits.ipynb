{
 "cells": [
  {
   "cell_type": "markdown",
   "id": "7c74c29c",
   "metadata": {},
   "source": [
    "# Lecture 11 - Superconducting Josephson charge qubits\n",
    "\n",
    "Author: J. R. Johansson (robert@riken.jp), https://jrjohansson.github.io/\n",
    "\n",
    "This lecture series was developed by J.R. Johannson. The original lecture notebooks are available [here](https://github.com/jrjohansson/qutip-lectures).\n",
    "\n",
    "This is a slightly modified version of the lectures, to work with the current release of QuTiP. You can find these lectures as a part of the [qutip-tutorials repository](https://github.com/qutip/qutip-tutorials). This lecture and other tutorial notebooks are indexed at the [QuTiP Tutorial webpage](https://qutip.org/tutorials.html)."
   ]
  },
  {
   "cell_type": "code",
   "execution_count": null,
   "id": "3848c72c",
   "metadata": {},
   "outputs": [],
   "source": [
    "import matplotlib.pyplot as plt\n",
    "import numpy as np\n",
    "from qutip import Qobj, about, energy_level_diagram, ket2dm, mesolve\n",
    "\n",
    "%matplotlib inline"
   ]
  },
  {
   "cell_type": "markdown",
   "id": "6da8005d",
   "metadata": {},
   "source": [
    "### Introduction\n",
    "\n",
    "The Hamiltonian for a Josephson charge qubit is\n",
    "\n",
    "$\\displaystyle H = \\sum_n 4 E_C (n_g - n)^2 \\left|n\\right\\rangle\\left\\langle n\\right| - \\frac{1}{2}E_J\\sum_n\\left(\\left|n+1\\right\\rangle\\left\\langle n\\right| + \\left|n\\right\\rangle\\left\\langle n+1\\right| \\right)$\n",
    "\n",
    "where $E_C$ is the charge energy, $E_J$ is the Josephson energy, and $\\left| n\\right\\rangle$ is the charge state with $n$ Cooper-pairs on the island that makes up the charge qubit."
   ]
  },
  {
   "cell_type": "markdown",
   "id": "d259eacd",
   "metadata": {},
   "source": [
    "#### References\n",
    "\n",
    " * [J. Koch et al, Phys. Rec. A 76, 042319 (2007)](http://link.aps.org/doi/10.1103/PhysRevA.76.042319)\n",
    " * [Y.A. Pashkin et al, Quantum Inf Process 8, 55 (2009)](http://dx.doi.org/10.1007/s11128-009-0101-5)"
   ]
  },
  {
   "cell_type": "markdown",
   "id": "65275c49",
   "metadata": {},
   "source": [
    "### Helper functions\n",
    "\n",
    "Below we will repeatedly need to obtain the charge qubit Hamiltonian for different parameters, and to plot the eigenenergies, so here we define two functions to do these tasks. "
   ]
  },
  {
   "cell_type": "code",
   "execution_count": null,
   "id": "38ae35fb",
   "metadata": {},
   "outputs": [],
   "source": [
    "def hamiltonian(Ec, Ej, N, ng):\n",
    "    \"\"\"\n",
    "    Return the charge qubit hamiltonian as a Qobj instance.\n",
    "    \"\"\"\n",
    "    m = np.diag(4 * Ec * (np.arange(-N, N + 1) - ng) ** 2) + 0.5 * Ej * (\n",
    "        np.diag(-np.ones(2 * N), 1) + np.diag(-np.ones(2 * N), -1)\n",
    "    )\n",
    "    return Qobj(m)"
   ]
  },
  {
   "cell_type": "code",
   "execution_count": null,
   "id": "416005b7",
   "metadata": {},
   "outputs": [],
   "source": [
    "def plot_energies(ng_vec, energies, ymax=(20, 3)):\n",
    "    \"\"\"\n",
    "    Plot energy levels as a function of bias parameter ng_vec.\n",
    "    \"\"\"\n",
    "    fig, axes = plt.subplots(1, 2, figsize=(16, 6))\n",
    "\n",
    "    for n in range(len(energies[0, :])):\n",
    "        axes[0].plot(ng_vec, energies[:, n])\n",
    "    axes[0].set_ylim(-2, ymax[0])\n",
    "    axes[0].set_xlabel(r\"$n_g$\", fontsize=18)\n",
    "    axes[0].set_ylabel(r\"$E_n$\", fontsize=18)\n",
    "\n",
    "    for n in range(len(energies[0, :])):\n",
    "        axes[1].plot(\n",
    "            ng_vec,\n",
    "            (energies[:, n] - energies[:, 0]) /\n",
    "            (energies[:, 1] - energies[:, 0]),\n",
    "        )\n",
    "    axes[1].set_ylim(-0.1, ymax[1])\n",
    "    axes[1].set_xlabel(r\"$n_g$\", fontsize=18)\n",
    "    axes[1].set_ylabel(r\"$(E_n-E_0)/(E_1-E_0)$\", fontsize=18)\n",
    "    return fig, axes"
   ]
  },
  {
   "cell_type": "code",
   "execution_count": null,
   "id": "62616022",
   "metadata": {},
   "outputs": [],
   "source": [
    "def visualize_dynamics(result, ylabel):\n",
    "    \"\"\"\n",
    "    Plot the evolution of the expectation values stored in result.\n",
    "    \"\"\"\n",
    "    fig, ax = plt.subplots(figsize=(12, 5))\n",
    "\n",
    "    ax.plot(result.times, result.expect[0])\n",
    "\n",
    "    ax.set_ylabel(ylabel, fontsize=16)\n",
    "    ax.set_xlabel(r\"$t$\", fontsize=16);"
   ]
  },
  {
   "cell_type": "markdown",
   "id": "141dcac1",
   "metadata": {},
   "source": [
    "### Charge qubit regime"
   ]
  },
  {
   "cell_type": "code",
   "execution_count": null,
   "id": "e37c742a",
   "metadata": {},
   "outputs": [],
   "source": [
    "N = 10\n",
    "Ec = 1.0\n",
    "Ej = 1.0"
   ]
  },
  {
   "cell_type": "code",
   "execution_count": null,
   "id": "a936f941",
   "metadata": {},
   "outputs": [],
   "source": [
    "ng_vec = np.linspace(-4, 4, 200)\n",
    "\n",
    "energies = np.array([hamiltonian(Ec, Ej, N, ng).eigenenergies()\n",
    "                     for ng in ng_vec])"
   ]
  },
  {
   "cell_type": "code",
   "execution_count": null,
   "id": "75793522",
   "metadata": {},
   "outputs": [],
   "source": [
    "plot_energies(ng_vec, energies);"
   ]
  },
  {
   "cell_type": "code",
   "execution_count": null,
   "id": "bef4c1fe",
   "metadata": {},
   "outputs": [],
   "source": [
    "ng_vec = np.linspace(-1, 1, 200)\n",
    "\n",
    "energies = np.array([hamiltonian(Ec, Ej, N, ng).eigenenergies()\n",
    "                     for ng in ng_vec])"
   ]
  },
  {
   "cell_type": "code",
   "execution_count": null,
   "id": "12aade2c",
   "metadata": {},
   "outputs": [],
   "source": [
    "plot_energies(ng_vec, energies, ymax=(7.5, 3.0));"
   ]
  },
  {
   "cell_type": "markdown",
   "id": "1fd34f36",
   "metadata": {},
   "source": [
    "### Intermediate regime"
   ]
  },
  {
   "cell_type": "code",
   "execution_count": null,
   "id": "09d026c9",
   "metadata": {},
   "outputs": [],
   "source": [
    "ng_vec = np.linspace(-4, 4, 200)"
   ]
  },
  {
   "cell_type": "code",
   "execution_count": null,
   "id": "e5f0652e",
   "metadata": {},
   "outputs": [],
   "source": [
    "Ec = 1.0\n",
    "Ej = 5.0"
   ]
  },
  {
   "cell_type": "code",
   "execution_count": null,
   "id": "197e3368",
   "metadata": {},
   "outputs": [],
   "source": [
    "energies = np.array([hamiltonian(Ec, Ej, N, ng).eigenenergies()\n",
    "                     for ng in ng_vec])"
   ]
  },
  {
   "cell_type": "code",
   "execution_count": null,
   "id": "0b2e0373",
   "metadata": {},
   "outputs": [],
   "source": [
    "plot_energies(ng_vec, energies, ymax=(50, 3));"
   ]
  },
  {
   "cell_type": "code",
   "execution_count": null,
   "id": "26428747",
   "metadata": {},
   "outputs": [],
   "source": [
    "Ec = 1.0\n",
    "Ej = 10.0"
   ]
  },
  {
   "cell_type": "code",
   "execution_count": null,
   "id": "9efb367b",
   "metadata": {},
   "outputs": [],
   "source": [
    "energies = np.array([hamiltonian(Ec, Ej, N, ng).eigenenergies()\n",
    "                     for ng in ng_vec])"
   ]
  },
  {
   "cell_type": "code",
   "execution_count": null,
   "id": "762d790f",
   "metadata": {},
   "outputs": [],
   "source": [
    "plot_energies(ng_vec, energies, ymax=(50, 3));"
   ]
  },
  {
   "cell_type": "markdown",
   "id": "2c710002",
   "metadata": {},
   "source": [
    "### Transmon regime"
   ]
  },
  {
   "cell_type": "code",
   "execution_count": null,
   "id": "8dc98680",
   "metadata": {},
   "outputs": [],
   "source": [
    "Ec = 1.0\n",
    "Ej = 50.0"
   ]
  },
  {
   "cell_type": "code",
   "execution_count": null,
   "id": "52131b56",
   "metadata": {},
   "outputs": [],
   "source": [
    "energies = np.array([hamiltonian(Ec, Ej, N, ng).eigenenergies()\n",
    "                     for ng in ng_vec])"
   ]
  },
  {
   "cell_type": "code",
   "execution_count": null,
   "id": "50e9e051",
   "metadata": {},
   "outputs": [],
   "source": [
    "plot_energies(ng_vec, energies, ymax=(50, 3));"
   ]
  },
  {
   "cell_type": "markdown",
   "id": "5bd069bd",
   "metadata": {},
   "source": [
    "Note that the energy-level splitting is essentially independent of the gate bias $n_g$, at least for the lowest few states. This device insensitive to charge noise. But at the same time the two lowest energy states are no longer well separated from higher states (it has become more like an harmonic oscillator). But some anharmonicity still remains, and it can still be used as a qubit if the leakage of occupation probability of the higher states can be kept under control."
   ]
  },
  {
   "cell_type": "markdown",
   "id": "06efb658",
   "metadata": {},
   "source": [
    "## Focus on the two lowest energy states\n",
    "\n",
    "Let's go back to the charge regime, and look at the lowest few energy levels again:"
   ]
  },
  {
   "cell_type": "code",
   "execution_count": null,
   "id": "30119635",
   "metadata": {},
   "outputs": [],
   "source": [
    "N = 10\n",
    "Ec = 1.0\n",
    "Ej = 1.0"
   ]
  },
  {
   "cell_type": "code",
   "execution_count": null,
   "id": "a5434a3e",
   "metadata": {},
   "outputs": [],
   "source": [
    "ng_vec = np.linspace(-1, 1, 200)"
   ]
  },
  {
   "cell_type": "code",
   "execution_count": null,
   "id": "9cb87de8",
   "metadata": {},
   "outputs": [],
   "source": [
    "energies = np.array([hamiltonian(Ec, Ej, N, ng).eigenenergies()\n",
    "                     for ng in ng_vec])"
   ]
  },
  {
   "cell_type": "code",
   "execution_count": null,
   "id": "9cfabe37",
   "metadata": {},
   "outputs": [],
   "source": [
    "plot_energies(ng_vec, energies, ymax=(10, 3));"
   ]
  },
  {
   "cell_type": "markdown",
   "id": "bedaf2c4",
   "metadata": {},
   "source": [
    "We can see that around $n_g = 0.5$ we have two lowest energy levels that are well separated for the higher energy levels:"
   ]
  },
  {
   "cell_type": "code",
   "execution_count": null,
   "id": "c5067841",
   "metadata": {},
   "outputs": [],
   "source": [
    "ng_vec = np.linspace(0.25, 0.75, 200)\n",
    "energies = np.array([hamiltonian(Ec, Ej, N, ng).eigenenergies()\n",
    "                     for ng in ng_vec])\n",
    "plot_energies(ng_vec, energies, ymax=(10, 1.1));"
   ]
  },
  {
   "cell_type": "markdown",
   "id": "11181a37",
   "metadata": {},
   "source": [
    "Let's tune the system to $n_g = 0.5$ and look at the Hamiltonian and its eigenstates in detail"
   ]
  },
  {
   "cell_type": "code",
   "execution_count": null,
   "id": "a35296e4",
   "metadata": {},
   "outputs": [],
   "source": [
    "H = hamiltonian(Ec, Ej, N, 0.5)"
   ]
  },
  {
   "cell_type": "code",
   "execution_count": null,
   "id": "77a78074",
   "metadata": {},
   "outputs": [],
   "source": [
    "H"
   ]
  },
  {
   "cell_type": "code",
   "execution_count": null,
   "id": "0b731f78",
   "metadata": {},
   "outputs": [],
   "source": [
    "evals, ekets = H.eigenstates()"
   ]
  },
  {
   "cell_type": "markdown",
   "id": "194d7f0a",
   "metadata": {},
   "source": [
    "The eigenenergies are sorted:"
   ]
  },
  {
   "cell_type": "code",
   "execution_count": null,
   "id": "da17f6df",
   "metadata": {},
   "outputs": [],
   "source": [
    "evals"
   ]
  },
  {
   "cell_type": "markdown",
   "id": "57a0f6db",
   "metadata": {},
   "source": [
    "Only two states have a significant weight in the two lowest eigenstates:"
   ]
  },
  {
   "cell_type": "code",
   "execution_count": null,
   "id": "f38ebe09",
   "metadata": {},
   "outputs": [],
   "source": [
    "ekets[0].full() > 0.1"
   ]
  },
  {
   "cell_type": "code",
   "execution_count": null,
   "id": "52055a17",
   "metadata": {},
   "outputs": [],
   "source": [
    "abs(ekets[1].full()) > 0.1"
   ]
  },
  {
   "cell_type": "markdown",
   "id": "61fab4fd",
   "metadata": {},
   "source": [
    "We can use these two isolated eigenstates to define a qubit basis:"
   ]
  },
  {
   "cell_type": "code",
   "execution_count": null,
   "id": "42ebfabf",
   "metadata": {},
   "outputs": [],
   "source": [
    "psi_g = ekets[0]  # basis(2, 0)\n",
    "psi_e = ekets[1]  # basis(2, 1)\n",
    "\n",
    "# psi_g = basis(2, 0)\n",
    "# psi_e = basis(2, 1)"
   ]
  },
  {
   "cell_type": "markdown",
   "id": "590ebd22",
   "metadata": {},
   "source": [
    "and corresponding Pauli matrices:"
   ]
  },
  {
   "cell_type": "code",
   "execution_count": null,
   "id": "286a88ba",
   "metadata": {},
   "outputs": [],
   "source": [
    "sx = psi_g * psi_e.dag() + psi_e * psi_g.dag()"
   ]
  },
  {
   "cell_type": "code",
   "execution_count": null,
   "id": "ba096d69",
   "metadata": {},
   "outputs": [],
   "source": [
    "sz = psi_g * psi_g.dag() - psi_e * psi_e.dag()"
   ]
  },
  {
   "cell_type": "markdown",
   "id": "3f490c0b",
   "metadata": {},
   "source": [
    "and an effective qubit Hamiltonian"
   ]
  },
  {
   "cell_type": "code",
   "execution_count": null,
   "id": "e1e1f903",
   "metadata": {},
   "outputs": [],
   "source": [
    "evals[1] - evals[0]"
   ]
  },
  {
   "cell_type": "code",
   "execution_count": null,
   "id": "07b4a7b1",
   "metadata": {},
   "outputs": [],
   "source": [
    "H0 = 0.5 * (evals[1] - evals[0]) * sz\n",
    "\n",
    "A = 0.25  # some driving amplitude\n",
    "Hd = 0.5 * A * sx  # obtained by driving ng(t),\n",
    "# but now H0 is in the eigenbasis so the drive becomes a sigma_x"
   ]
  },
  {
   "cell_type": "markdown",
   "id": "4343a8d7",
   "metadata": {},
   "source": [
    "Doing this we have a bunch of extra energy levels in the system that aren't involved in the dynamics, but so far they are still in the Hamiltonian."
   ]
  },
  {
   "cell_type": "code",
   "execution_count": null,
   "id": "a8b31122",
   "metadata": {},
   "outputs": [],
   "source": [
    "qubit_evals = H0.eigenenergies()\n",
    "\n",
    "qubit_evals - qubit_evals[0]"
   ]
  },
  {
   "cell_type": "code",
   "execution_count": null,
   "id": "64cca941",
   "metadata": {},
   "outputs": [],
   "source": [
    "energy_level_diagram([H0, Hd], figsize=(4, 2));"
   ]
  },
  {
   "cell_type": "markdown",
   "id": "043ac49f",
   "metadata": {},
   "source": [
    "Imagine that we also can drive a $\\sigma_x$ type of interaction (e.g., external field):"
   ]
  },
  {
   "cell_type": "code",
   "execution_count": null,
   "id": "7a85301b",
   "metadata": {},
   "outputs": [],
   "source": [
    "Heff = [H0, [Hd, \"sin(wd*t)\"]]\n",
    "\n",
    "args = {\"wd\": (evals[1] - evals[0])}"
   ]
  },
  {
   "cell_type": "markdown",
   "id": "5a0d2f32",
   "metadata": {},
   "source": [
    "Let's look at the Rabi oscillation dynamics of the qubit when initially placed in the ground state:"
   ]
  },
  {
   "cell_type": "code",
   "execution_count": null,
   "id": "43f8e908",
   "metadata": {},
   "outputs": [],
   "source": [
    "psi0 = psi_g"
   ]
  },
  {
   "cell_type": "code",
   "execution_count": null,
   "id": "44efc46d",
   "metadata": {},
   "outputs": [],
   "source": [
    "tlist = np.linspace(0.0, 100.0, 500)\n",
    "result = mesolve(Heff, psi0, tlist, [], [ket2dm(psi_e)], args=args)"
   ]
  },
  {
   "cell_type": "code",
   "execution_count": null,
   "id": "e8156e09",
   "metadata": {},
   "outputs": [],
   "source": [
    "visualize_dynamics(result, r\"$\\rho_{ee}$\");"
   ]
  },
  {
   "cell_type": "markdown",
   "id": "a1cc1872",
   "metadata": {},
   "source": [
    "We can see that only the two selected states are included in the dynamics, and very little leakage to other levels occur.\n",
    "\n",
    "Instead of keeping all the inactive quantum states in the calculation we can eliminate them using Qobj.extract_state, so that we obtain a true two-level system."
   ]
  },
  {
   "cell_type": "code",
   "execution_count": null,
   "id": "cdae309f",
   "metadata": {},
   "outputs": [],
   "source": [
    "np.where(abs(ekets[0].full().flatten()) > 0.1)[0]"
   ]
  },
  {
   "cell_type": "code",
   "execution_count": null,
   "id": "467dae81",
   "metadata": {},
   "outputs": [],
   "source": [
    "np.where(abs(ekets[1].full().flatten()) > 0.1)[0]"
   ]
  },
  {
   "cell_type": "code",
   "execution_count": null,
   "id": "05b8b24c",
   "metadata": {},
   "outputs": [],
   "source": [
    "keep_states = np.where(abs(ekets[1].full().flatten()) > 0.1)[0]"
   ]
  },
  {
   "cell_type": "code",
   "execution_count": null,
   "id": "fa42ab41",
   "metadata": {},
   "outputs": [],
   "source": [
    "H0 = H0.extract_states(keep_states)\n",
    "\n",
    "H0"
   ]
  },
  {
   "cell_type": "code",
   "execution_count": null,
   "id": "3dc81b95",
   "metadata": {},
   "outputs": [],
   "source": [
    "Hd = Hd.extract_states(keep_states)\n",
    "\n",
    "Hd"
   ]
  },
  {
   "cell_type": "markdown",
   "id": "a1048c5f",
   "metadata": {},
   "source": [
    "And if we look at the energy level diagram now we see that we only have two states in the system, as desired."
   ]
  },
  {
   "cell_type": "code",
   "execution_count": null,
   "id": "73112adb",
   "metadata": {},
   "outputs": [],
   "source": [
    "energy_level_diagram([H0, Hd], figsize=(4, 2));"
   ]
  },
  {
   "cell_type": "code",
   "execution_count": null,
   "id": "d61c0426",
   "metadata": {},
   "outputs": [],
   "source": [
    "Heff = [H0, [Hd, \"sin(wd*t)\"]]\n",
    "\n",
    "args = {\"wd\": (evals[1] - evals[0])}"
   ]
  },
  {
   "cell_type": "code",
   "execution_count": null,
   "id": "af222661",
   "metadata": {},
   "outputs": [],
   "source": [
    "psi0 = psi0.extract_states(keep_states)"
   ]
  },
  {
   "cell_type": "code",
   "execution_count": null,
   "id": "b3bcb939",
   "metadata": {},
   "outputs": [],
   "source": [
    "psi_e = psi_e.extract_states(keep_states)"
   ]
  },
  {
   "cell_type": "code",
   "execution_count": null,
   "id": "f93082c4",
   "metadata": {},
   "outputs": [],
   "source": [
    "tlist = np.linspace(0.0, 100.0, 500)\n",
    "result = mesolve(Heff, psi0, tlist, [], [ket2dm(psi_e)], args=args)"
   ]
  },
  {
   "cell_type": "code",
   "execution_count": null,
   "id": "13b54895",
   "metadata": {},
   "outputs": [],
   "source": [
    "visualize_dynamics(result, r\"$\\rho_{ee}$\");"
   ]
  },
  {
   "cell_type": "markdown",
   "id": "196b7518",
   "metadata": {},
   "source": [
    "### Software versions"
   ]
  },
  {
   "cell_type": "code",
   "execution_count": null,
   "id": "71054d2f",
   "metadata": {},
   "outputs": [],
   "source": [
    "about()"
   ]
  }
 ],
 "metadata": {
  "jupytext": {
   "cell_metadata_filter": "-all",
   "notebook_metadata_filter": "-jupytext.cell_metadata_filter,-jupytext.notebook_metadata_filter"
  },
  "kernelspec": {
   "display_name": "Python 3 (ipykernel)",
   "language": "python",
   "name": "python3"
  }
 },
 "nbformat": 4,
 "nbformat_minor": 5
}
