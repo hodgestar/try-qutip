{
 "cells": [
  {
   "cell_type": "markdown",
   "id": "a732d351",
   "metadata": {},
   "source": [
    "# Lecture 10 - Cavity-QED in the dispersive regime\n",
    "\n",
    "Author: J. R. Johansson (robert@riken.jp), https://jrjohansson.github.io/\n",
    "\n",
    "This lecture series was developed by J.R. Johannson. The original lecture notebooks are available [here](https://github.com/jrjohansson/qutip-lectures).\n",
    "\n",
    "This is a slightly modified version of the lectures, to work with the current release of QuTiP. You can find these lectures as a part of the [qutip-tutorials repository](https://github.com/qutip/qutip-tutorials). This lecture and other tutorial notebooks are indexed at the [QuTiP Tutorial webpage](https://qutip.org/tutorials.html)."
   ]
  },
  {
   "cell_type": "code",
   "execution_count": null,
   "id": "f3ddb878",
   "metadata": {},
   "outputs": [],
   "source": [
    "import matplotlib as mpl\n",
    "import matplotlib.pyplot as plt\n",
    "import numpy as np\n",
    "from qutip import (Options, about, basis, coherent, correlation, destroy,\n",
    "                   expect, mesolve, ptrace, qeye, sigmax, sigmaz,\n",
    "                   spectrum_correlation_fft, tensor, wigner)\n",
    "\n",
    "%matplotlib inline"
   ]
  },
  {
   "cell_type": "markdown",
   "id": "5e3de156",
   "metadata": {},
   "source": [
    "# Introduction\n",
    "\n",
    "A qubit-resonator system can described by the Hamiltonian\n",
    "\n",
    "$\\displaystyle H = \\omega_r a^\\dagger a - \\frac{1}{2} \\omega_q \\sigma_z + g (a^\\dagger + a) \\sigma_x$\n",
    "\n",
    "where $\\omega_r$ and $\\omega_q$ are the the bare frequencies of the resonator and qubit, respectively, and where $g$ is the dipole interaction strength. \n",
    "\n",
    "The dispersive regime occurs when the resonator and qubit is far off resonance, $\\Delta \\gg g$, where $\\Delta = \\omega_r-\\omega_q$ is the detuning between the resonator and the qubit (for example $\\omega_r \\gg \\omega_q$).\n",
    "\n",
    "In the dispersive regime the system can be described by an effective Hamiltonian on the form\n",
    "\n",
    "$\\displaystyle H = \\omega_r a^\\dagger a - \\frac{1}{2}\\omega_q \\sigma_z + \\chi (a^\\dagger a  + 1/2) \\sigma_z$\n",
    "\n",
    "where $\\chi = g^2/\\Delta$ . We can view the last term as a correction of the resonator frequency that depends on the qubit state, or a correction to the qubit frequency that depends on the resonator state.\n",
    "\n",
    "In a beautiful experiment by D. I. Schuster et al., the dispersive regime was used to resolving the photon number states of a microwave resonator by monitoring a qubit that was coupled to the resonator. This notebook shows how to simulate this kind of system numerically in QuTiP.\n",
    "\n",
    "### References\n",
    "\n",
    " * [D. I. Schuster et al., Resolving photon number states in a superconducting circuit, Nature 445, 515 (2007)](http://dx.doi.org/10.1038/nature05461)"
   ]
  },
  {
   "cell_type": "markdown",
   "id": "71f7f704",
   "metadata": {},
   "source": [
    "## Parameters"
   ]
  },
  {
   "cell_type": "code",
   "execution_count": null,
   "id": "3dcb211a",
   "metadata": {},
   "outputs": [],
   "source": [
    "N = 20\n",
    "\n",
    "wr = 2.0 * 2 * np.pi  # resonator frequency\n",
    "wq = 3.0 * 2 * np.pi  # qubit frequency\n",
    "chi = 0.025 * 2 * np.pi  # parameter in the dispersive hamiltonian\n",
    "\n",
    "delta = abs(wr - wq)  # detuning\n",
    "g = np.sqrt(delta * chi)  # coupling strength that is consistent with chi"
   ]
  },
  {
   "cell_type": "code",
   "execution_count": null,
   "id": "3e5a6d26",
   "metadata": {},
   "outputs": [],
   "source": [
    "# compare detuning and g, the first should be much larger than the second\n",
    "delta / (2 * np.pi), g / (2 * np.pi)"
   ]
  },
  {
   "cell_type": "code",
   "execution_count": null,
   "id": "f0984f76",
   "metadata": {},
   "outputs": [],
   "source": [
    "# cavity operators\n",
    "a = tensor(destroy(N), qeye(2))\n",
    "nc = a.dag() * a\n",
    "xc = a + a.dag()\n",
    "\n",
    "# atomic operators\n",
    "sm = tensor(qeye(N), destroy(2))\n",
    "sz = tensor(qeye(N), sigmaz())\n",
    "sx = tensor(qeye(N), sigmax())\n",
    "nq = sm.dag() * sm\n",
    "xq = sm + sm.dag()\n",
    "\n",
    "Id = tensor(qeye(N), qeye(2))"
   ]
  },
  {
   "cell_type": "code",
   "execution_count": null,
   "id": "1879c1a5",
   "metadata": {},
   "outputs": [],
   "source": [
    "# dispersive hamiltonian\n",
    "H = wr * (a.dag() * a + Id / 2.0) + (wq / 2.0) * sz + chi * \\\n",
    "    (a.dag() * a + Id / 2) * sz"
   ]
  },
  {
   "cell_type": "markdown",
   "id": "17512171",
   "metadata": {},
   "source": [
    "Try different initial state of the resonator, and see how the spectrum further down in the notebook reflects the photon distribution chosen here."
   ]
  },
  {
   "cell_type": "code",
   "execution_count": null,
   "id": "3ea28a86",
   "metadata": {},
   "outputs": [],
   "source": [
    "# psi0 = tensor(coherent(N, sqrt(6)), (basis(2,0)+basis(2,1)).unit())"
   ]
  },
  {
   "cell_type": "code",
   "execution_count": null,
   "id": "5482dc4b",
   "metadata": {},
   "outputs": [],
   "source": [
    "# psi0 = tensor(thermal_dm(N, 3), ket2dm(basis(2,0)+basis(2,1))).unit()"
   ]
  },
  {
   "cell_type": "code",
   "execution_count": null,
   "id": "5370f190",
   "metadata": {},
   "outputs": [],
   "source": [
    "psi0 = tensor(coherent(N, np.sqrt(4)), (basis(2, 0) + basis(2, 1)).unit())"
   ]
  },
  {
   "cell_type": "markdown",
   "id": "1f242857",
   "metadata": {},
   "source": [
    "## Time evolution"
   ]
  },
  {
   "cell_type": "code",
   "execution_count": null,
   "id": "8d78f757",
   "metadata": {},
   "outputs": [],
   "source": [
    "tlist = np.linspace(0, 250, 1000)"
   ]
  },
  {
   "cell_type": "code",
   "execution_count": null,
   "id": "214a4a2a",
   "metadata": {},
   "outputs": [],
   "source": [
    "res = mesolve(H, psi0, tlist, [], [], options=Options(nsteps=5000))"
   ]
  },
  {
   "cell_type": "markdown",
   "id": "72d52130",
   "metadata": {},
   "source": [
    "### Excitation numbers\n",
    "\n",
    "We can see that the systems do not exchange any energy, because of they are off resonance with each other."
   ]
  },
  {
   "cell_type": "code",
   "execution_count": null,
   "id": "b1450376",
   "metadata": {},
   "outputs": [],
   "source": [
    "nc_list = expect(nc, res.states)\n",
    "nq_list = expect(nq, res.states)"
   ]
  },
  {
   "cell_type": "code",
   "execution_count": null,
   "id": "d872098f",
   "metadata": {},
   "outputs": [],
   "source": [
    "fig, ax = plt.subplots(1, 1, sharex=True, figsize=(12, 4))\n",
    "\n",
    "ax.plot(tlist, nc_list, \"r\", linewidth=2, label=\"cavity\")\n",
    "ax.plot(tlist, nq_list, \"b--\", linewidth=2, label=\"qubit\")\n",
    "ax.set_ylim(0, 7)\n",
    "ax.set_ylabel(\"n\", fontsize=16)\n",
    "ax.set_xlabel(\"Time (ns)\", fontsize=16)\n",
    "ax.legend()\n",
    "\n",
    "fig.tight_layout()"
   ]
  },
  {
   "cell_type": "markdown",
   "id": "4e68a1d5",
   "metadata": {},
   "source": [
    "### Resonator quadrature"
   ]
  },
  {
   "cell_type": "markdown",
   "id": "33bc117b",
   "metadata": {},
   "source": [
    "However, the quadratures of the resonator are oscillating rapidly."
   ]
  },
  {
   "cell_type": "code",
   "execution_count": null,
   "id": "07dad425",
   "metadata": {},
   "outputs": [],
   "source": [
    "xc_list = expect(xc, res.states)"
   ]
  },
  {
   "cell_type": "code",
   "execution_count": null,
   "id": "34263113",
   "metadata": {},
   "outputs": [],
   "source": [
    "fig, ax = plt.subplots(1, 1, sharex=True, figsize=(12, 4))\n",
    "\n",
    "ax.plot(tlist, xc_list, \"r\", linewidth=2, label=\"cavity\")\n",
    "ax.set_ylabel(\"x\", fontsize=16)\n",
    "ax.set_xlabel(\"Time (ns)\", fontsize=16)\n",
    "ax.legend()\n",
    "\n",
    "fig.tight_layout()"
   ]
  },
  {
   "cell_type": "markdown",
   "id": "d6948cac",
   "metadata": {},
   "source": [
    "### Correlation function for the resonator"
   ]
  },
  {
   "cell_type": "code",
   "execution_count": null,
   "id": "354b33bb",
   "metadata": {},
   "outputs": [],
   "source": [
    "tlist = np.linspace(0, 100, 1000)"
   ]
  },
  {
   "cell_type": "code",
   "execution_count": null,
   "id": "904c0c25",
   "metadata": {},
   "outputs": [],
   "source": [
    "corr_vec = correlation(H, psi0, None, tlist, [], a.dag(), a)"
   ]
  },
  {
   "cell_type": "code",
   "execution_count": null,
   "id": "a74278ff",
   "metadata": {},
   "outputs": [],
   "source": [
    "fig, ax = plt.subplots(1, 1, sharex=True, figsize=(12, 4))\n",
    "\n",
    "ax.plot(tlist, np.real(corr_vec), \"r\", linewidth=2, label=\"resonator\")\n",
    "ax.set_ylabel(\"correlation\", fontsize=16)\n",
    "ax.set_xlabel(\"Time (ns)\", fontsize=16)\n",
    "ax.legend()\n",
    "ax.set_xlim(0, 50)\n",
    "fig.tight_layout()"
   ]
  },
  {
   "cell_type": "markdown",
   "id": "6aef844c",
   "metadata": {},
   "source": [
    "### Spectrum of the resonator"
   ]
  },
  {
   "cell_type": "code",
   "execution_count": null,
   "id": "042dc35c",
   "metadata": {},
   "outputs": [],
   "source": [
    "w, S = spectrum_correlation_fft(tlist, corr_vec)"
   ]
  },
  {
   "cell_type": "code",
   "execution_count": null,
   "id": "5c607bc3",
   "metadata": {},
   "outputs": [],
   "source": [
    "fig, ax = plt.subplots(figsize=(9, 3))\n",
    "ax.plot(w / (2 * np.pi), abs(S))\n",
    "ax.set_xlabel(r\"$\\omega$\", fontsize=18)\n",
    "ax.set_xlim(wr / (2 * np.pi) - 0.5, wr / (2 * np.pi) + 0.5);"
   ]
  },
  {
   "cell_type": "markdown",
   "id": "007b25dc",
   "metadata": {},
   "source": [
    "Here we can see how the resonator peak is split and shiften up and down due to the superposition of 0 and 1 states of the qubit! We can also verify that the splitting is exactly $2\\chi$, as expected:"
   ]
  },
  {
   "cell_type": "code",
   "execution_count": null,
   "id": "f9ecb49b",
   "metadata": {},
   "outputs": [],
   "source": [
    "fig, ax = plt.subplots(figsize=(9, 3))\n",
    "ax.plot((w - wr) / chi, abs(S))\n",
    "ax.set_xlabel(r\"$(\\omega-\\omega_r)/\\chi$\", fontsize=18)\n",
    "ax.set_xlim(-2, 2);"
   ]
  },
  {
   "cell_type": "markdown",
   "id": "3c218934",
   "metadata": {},
   "source": [
    "### Correlation function of the qubit"
   ]
  },
  {
   "cell_type": "code",
   "execution_count": null,
   "id": "37bac6ed",
   "metadata": {},
   "outputs": [],
   "source": [
    "corr_vec = correlation(H, psi0, None, tlist, [], sx, sx)"
   ]
  },
  {
   "cell_type": "code",
   "execution_count": null,
   "id": "27231a59",
   "metadata": {},
   "outputs": [],
   "source": [
    "fig, ax = plt.subplots(1, 1, sharex=True, figsize=(12, 4))\n",
    "\n",
    "ax.plot(tlist, np.real(corr_vec), \"r\", linewidth=2, label=\"qubit\")\n",
    "ax.set_ylabel(\"correlation\", fontsize=16)\n",
    "ax.set_xlabel(\"Time (ns)\", fontsize=16)\n",
    "ax.legend()\n",
    "ax.set_xlim(0, 50)\n",
    "fig.tight_layout()"
   ]
  },
  {
   "cell_type": "markdown",
   "id": "a46c262b",
   "metadata": {},
   "source": [
    "### Spectrum of the qubit\n",
    "\n",
    "The spectrum of the qubit has an interesting structure: from it one can see the photon distribution in the resonator mode!"
   ]
  },
  {
   "cell_type": "code",
   "execution_count": null,
   "id": "c7decc1e",
   "metadata": {},
   "outputs": [],
   "source": [
    "w, S = spectrum_correlation_fft(tlist, corr_vec)"
   ]
  },
  {
   "cell_type": "code",
   "execution_count": null,
   "id": "b103f97d",
   "metadata": {},
   "outputs": [],
   "source": [
    "fig, ax = plt.subplots(figsize=(9, 3))\n",
    "ax.plot(w / (2 * np.pi), abs(S))\n",
    "ax.set_xlabel(r\"$\\omega$\", fontsize=18)"
   ]
  },
  {
   "cell_type": "markdown",
   "id": "633dbe9d",
   "metadata": {},
   "source": [
    "It's a bit clearer if we shift the spectrum and scale it with $2\\chi$"
   ]
  },
  {
   "cell_type": "code",
   "execution_count": null,
   "id": "0b386577",
   "metadata": {},
   "outputs": [],
   "source": [
    "fig, ax = plt.subplots(figsize=(9, 3))\n",
    "ax.plot((w - wq - chi) / (2 * chi), abs(S))\n",
    "ax.set_xlabel(r\"$(\\omega - \\omega_q - \\chi)/2\\chi$\", fontsize=18)\n",
    "ax.set_xlim(-0.5, N);"
   ]
  },
  {
   "cell_type": "markdown",
   "id": "c75ec5c1",
   "metadata": {},
   "source": [
    "Compare to the cavity fock state distribution:"
   ]
  },
  {
   "cell_type": "code",
   "execution_count": null,
   "id": "a82d310d",
   "metadata": {},
   "outputs": [],
   "source": [
    "rho_cavity = ptrace(res.states[-1], 0)"
   ]
  },
  {
   "cell_type": "code",
   "execution_count": null,
   "id": "e53bd8c5",
   "metadata": {},
   "outputs": [],
   "source": [
    "fig, axes = plt.subplots(1, 1, figsize=(9, 3))\n",
    "\n",
    "axes.bar(np.arange(0, N) - 0.4, np.real(rho_cavity.diag()), color=\"blue\",\n",
    "         alpha=0.6)\n",
    "axes.set_ylim(0, 1)\n",
    "axes.set_xlim(-0.5, N)\n",
    "axes.set_xticks(np.arange(0, N))\n",
    "axes.set_xlabel(\"Fock number\", fontsize=12)\n",
    "axes.set_ylabel(\"Occupation probability\", fontsize=12);"
   ]
  },
  {
   "cell_type": "markdown",
   "id": "334df8a1",
   "metadata": {},
   "source": [
    "And if we look at the cavity wigner function we can see that after interacting dispersively with the qubit, the cavity is no longer in a coherent state, but in a superposition of coherent states."
   ]
  },
  {
   "cell_type": "code",
   "execution_count": null,
   "id": "17dbda77",
   "metadata": {},
   "outputs": [],
   "source": [
    "fig, axes = plt.subplots(1, 1, figsize=(6, 6))\n",
    "\n",
    "xvec = np.linspace(-5, 5, 200)\n",
    "W = wigner(rho_cavity, xvec, xvec)\n",
    "wlim = abs(W).max()\n",
    "\n",
    "axes.contourf(\n",
    "    xvec,\n",
    "    xvec,\n",
    "    W,\n",
    "    100,\n",
    "    norm=mpl.colors.Normalize(-wlim, wlim),\n",
    "    cmap=plt.get_cmap(\"RdBu\"),\n",
    ")\n",
    "axes.set_xlabel(r\"Im $\\alpha$\", fontsize=18)\n",
    "axes.set_ylabel(r\"Re $\\alpha$\", fontsize=18);"
   ]
  },
  {
   "cell_type": "markdown",
   "id": "005a7f70",
   "metadata": {},
   "source": [
    "### Software versions"
   ]
  },
  {
   "cell_type": "code",
   "execution_count": null,
   "id": "df32bcd5",
   "metadata": {},
   "outputs": [],
   "source": [
    "about()"
   ]
  }
 ],
 "metadata": {
  "jupytext": {
   "cell_metadata_filter": "-all",
   "notebook_metadata_filter": "-jupytext.cell_metadata_filter,-jupytext.notebook_metadata_filter"
  },
  "kernelspec": {
   "display_name": "Python 3 (ipykernel)",
   "language": "python",
   "name": "python3"
  }
 },
 "nbformat": 4,
 "nbformat_minor": 5
}
