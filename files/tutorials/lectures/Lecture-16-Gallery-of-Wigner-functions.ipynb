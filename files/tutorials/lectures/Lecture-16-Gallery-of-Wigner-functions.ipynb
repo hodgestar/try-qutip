{
 "cells": [
  {
   "cell_type": "markdown",
   "id": "965e6c68",
   "metadata": {},
   "source": [
    "# Lecture 16 - Gallery of Wigner functions"
   ]
  },
  {
   "cell_type": "markdown",
   "id": "33194e38",
   "metadata": {},
   "source": [
    "Author: J. R. Johansson (robert@riken.jp), https://jrjohansson.github.io/\n",
    "\n",
    "This lecture series was developed by J.R. Johannson. The original lecture notebooks are available [here](https://github.com/jrjohansson/qutip-lectures).\n",
    "\n",
    "This is a slightly modified version of the lectures, to work with the current release of QuTiP. You can find these lectures as a part of the [qutip-tutorials repository](https://github.com/qutip/qutip-tutorials). This lecture and other tutorial notebooks are indexed at the [QuTiP Tutorial webpage](https://qutip.org/tutorials.html)."
   ]
  },
  {
   "cell_type": "code",
   "execution_count": null,
   "id": "2ea3609b",
   "metadata": {},
   "outputs": [],
   "source": [
    "import matplotlib.pyplot as plt\n",
    "import numpy as np\n",
    "from IPython.display import display\n",
    "from qutip import (about, basis, coherent, coherent_dm, displace, fock, ket2dm,\n",
    "                   plot_wigner, squeeze, thermal_dm)\n",
    "\n",
    "%matplotlib inline"
   ]
  },
  {
   "cell_type": "markdown",
   "id": "edacbd9f",
   "metadata": {},
   "source": [
    "## Introduction"
   ]
  },
  {
   "cell_type": "markdown",
   "id": "b81115a3",
   "metadata": {},
   "source": [
    "## Parameters"
   ]
  },
  {
   "cell_type": "code",
   "execution_count": null,
   "id": "54550530",
   "metadata": {},
   "outputs": [],
   "source": [
    "N = 20"
   ]
  },
  {
   "cell_type": "code",
   "execution_count": null,
   "id": "721cf2fc",
   "metadata": {},
   "outputs": [],
   "source": [
    "def plot_wigner_2d_3d(psi):\n",
    "    fig = plt.figure(figsize=(17, 8))\n",
    "\n",
    "    ax = fig.add_subplot(1, 2, 1)\n",
    "    plot_wigner(psi, fig=fig, ax=ax, alpha_max=6)\n",
    "\n",
    "    ax = fig.add_subplot(1, 2, 2, projection=\"3d\")\n",
    "    plot_wigner(psi, fig=fig, ax=ax, projection=\"3d\", alpha_max=6)\n",
    "\n",
    "    plt.close(fig)\n",
    "    return fig"
   ]
  },
  {
   "cell_type": "markdown",
   "id": "53f6e049",
   "metadata": {},
   "source": [
    "## Vacuum state: $\\left|0\\right>$"
   ]
  },
  {
   "cell_type": "code",
   "execution_count": null,
   "id": "91f67dcd",
   "metadata": {},
   "outputs": [],
   "source": [
    "psi = basis(N, 0)\n",
    "plot_wigner_2d_3d(psi)"
   ]
  },
  {
   "cell_type": "markdown",
   "id": "c4d7181e",
   "metadata": {},
   "source": [
    "## Thermal states"
   ]
  },
  {
   "cell_type": "code",
   "execution_count": null,
   "id": "3f90b2d0",
   "metadata": {},
   "outputs": [],
   "source": [
    "psi = thermal_dm(N, 2)\n",
    "plot_wigner_2d_3d(psi)"
   ]
  },
  {
   "cell_type": "markdown",
   "id": "5f675026",
   "metadata": {},
   "source": [
    "## Coherent states: $\\left|\\alpha\\right>$"
   ]
  },
  {
   "cell_type": "code",
   "execution_count": null,
   "id": "359e2ba3",
   "metadata": {},
   "outputs": [],
   "source": [
    "psi = coherent(N, 2.0)\n",
    "plot_wigner_2d_3d(psi)"
   ]
  },
  {
   "cell_type": "code",
   "execution_count": null,
   "id": "c714a141",
   "metadata": {},
   "outputs": [],
   "source": [
    "psi = coherent(N, -1.0)\n",
    "plot_wigner_2d_3d(psi)"
   ]
  },
  {
   "cell_type": "markdown",
   "id": "5b239961",
   "metadata": {},
   "source": [
    "## Superposition of coherent states"
   ]
  },
  {
   "cell_type": "code",
   "execution_count": null,
   "id": "b11f2a8e",
   "metadata": {},
   "outputs": [],
   "source": [
    "psi = (coherent(N, -2.0) + coherent(N, 2.0)) / np.sqrt(2)\n",
    "plot_wigner_2d_3d(psi)"
   ]
  },
  {
   "cell_type": "code",
   "execution_count": null,
   "id": "e68cf77b",
   "metadata": {},
   "outputs": [],
   "source": [
    "psi = (coherent(N, -2.0) - coherent(N, 2.0)) / np.sqrt(2)\n",
    "plot_wigner_2d_3d(psi)"
   ]
  },
  {
   "cell_type": "code",
   "execution_count": null,
   "id": "f128e3f3",
   "metadata": {},
   "outputs": [],
   "source": [
    "psi = (coherent(N, -2.0) + coherent(N, -2j) + coherent(N, 2j)\n",
    "       + coherent(N, 2.0)).unit()\n",
    "plot_wigner_2d_3d(psi)"
   ]
  },
  {
   "cell_type": "code",
   "execution_count": null,
   "id": "c3afba85",
   "metadata": {},
   "outputs": [],
   "source": [
    "psi = (coherent(N, -2.0) + coherent(N, -1j) + coherent(N, 1j)\n",
    "       + coherent(N, 2.0)).unit()\n",
    "plot_wigner_2d_3d(psi)"
   ]
  },
  {
   "cell_type": "code",
   "execution_count": null,
   "id": "213297e1",
   "metadata": {},
   "outputs": [],
   "source": [
    "NN = 8\n",
    "\n",
    "fig, axes = plt.subplots(NN, 1, figsize=(5, 5 * NN),\n",
    "                         sharex=True, sharey=True)\n",
    "for n in range(NN):\n",
    "    psi = sum(\n",
    "        [coherent(N, 2 * np.exp(2j * np.pi * m / (n + 2)))\n",
    "         for m in range(n + 2)]\n",
    "    ).unit()\n",
    "    plot_wigner(psi, fig=fig, ax=axes[n])\n",
    "\n",
    "    # if n < NN - 1:\n",
    "    #    axes[n].set_ylabel(\"\")"
   ]
  },
  {
   "cell_type": "markdown",
   "id": "53456c8e",
   "metadata": {},
   "source": [
    "### Mixture of coherent states"
   ]
  },
  {
   "cell_type": "code",
   "execution_count": null,
   "id": "1e52287c",
   "metadata": {},
   "outputs": [],
   "source": [
    "psi = (coherent_dm(N, -2.0) + coherent_dm(N, 2.0)) / np.sqrt(2)\n",
    "plot_wigner_2d_3d(psi)"
   ]
  },
  {
   "cell_type": "markdown",
   "id": "ce6fd9fb",
   "metadata": {},
   "source": [
    "## Fock states: $\\left|n\\right>$"
   ]
  },
  {
   "cell_type": "code",
   "execution_count": null,
   "id": "dbe6c518",
   "metadata": {},
   "outputs": [],
   "source": []
  },
  {
   "cell_type": "code",
   "execution_count": null,
   "id": "37ff3e63",
   "metadata": {},
   "outputs": [],
   "source": [
    "for n in range(6):\n",
    "    psi = basis(N, n)\n",
    "    display(plot_wigner_2d_3d(psi))"
   ]
  },
  {
   "cell_type": "markdown",
   "id": "3d779500",
   "metadata": {},
   "source": [
    "## Superposition of Fock states"
   ]
  },
  {
   "cell_type": "code",
   "execution_count": null,
   "id": "0b0d2a58",
   "metadata": {},
   "outputs": [],
   "source": [
    "NN = MM = 5\n",
    "\n",
    "fig, axes = plt.subplots(NN, MM, figsize=(18, 18),\n",
    "                         sharex=True, sharey=True)\n",
    "for n in range(NN):\n",
    "    for m in range(MM):\n",
    "        psi = (fock(N, n) + fock(N, m)).unit()\n",
    "        plot_wigner(psi, fig=fig, ax=axes[n, m])\n",
    "        if n < NN - 1:\n",
    "            axes[n, m].set_xlabel(\"\")\n",
    "        if m > 0:\n",
    "            axes[n, m].set_ylabel(\"\")"
   ]
  },
  {
   "cell_type": "markdown",
   "id": "be48a48b",
   "metadata": {},
   "source": [
    "## Squeezed vacuum states"
   ]
  },
  {
   "cell_type": "code",
   "execution_count": null,
   "id": "ae278982",
   "metadata": {},
   "outputs": [],
   "source": [
    "psi = squeeze(N, 0.5) * basis(N, 0)\n",
    "display(plot_wigner_2d_3d(psi))\n",
    "\n",
    "psi = squeeze(N, 0.75j) * basis(N, 0)\n",
    "display(plot_wigner_2d_3d(psi))\n",
    "\n",
    "psi = squeeze(N, -1) * basis(N, 0)\n",
    "display(plot_wigner_2d_3d(psi))"
   ]
  },
  {
   "cell_type": "markdown",
   "id": "72659e55",
   "metadata": {},
   "source": [
    "### Superposition of squeezed vacuum"
   ]
  },
  {
   "cell_type": "code",
   "execution_count": null,
   "id": "851c30e2",
   "metadata": {},
   "outputs": [],
   "source": [
    "psi = (squeeze(N, 0.75j) * basis(N, 0) - squeeze(N, -0.75j)\n",
    "       * basis(N, 0)).unit()\n",
    "display(plot_wigner_2d_3d(psi))"
   ]
  },
  {
   "cell_type": "markdown",
   "id": "39dc9a10",
   "metadata": {},
   "source": [
    "### Mixture of squeezed vacuum"
   ]
  },
  {
   "cell_type": "code",
   "execution_count": null,
   "id": "60bba97b",
   "metadata": {},
   "outputs": [],
   "source": [
    "psi = (\n",
    "    ket2dm(squeeze(N, 0.75j) * basis(N, 0)) +\n",
    "    ket2dm(squeeze(N, -0.75j) * basis(N, 0))\n",
    ").unit()\n",
    "display(plot_wigner_2d_3d(psi))"
   ]
  },
  {
   "cell_type": "markdown",
   "id": "f33dcf9f",
   "metadata": {},
   "source": [
    "## Displaced squeezed vacuum"
   ]
  },
  {
   "cell_type": "code",
   "execution_count": null,
   "id": "6797bbc8",
   "metadata": {},
   "outputs": [],
   "source": [
    "psi = displace(N, 2) * squeeze(N, 0.75) * basis(N, 0)\n",
    "display(plot_wigner_2d_3d(psi))"
   ]
  },
  {
   "cell_type": "markdown",
   "id": "908934a7",
   "metadata": {},
   "source": [
    "### Superposition of two displaced squeezed states"
   ]
  },
  {
   "cell_type": "code",
   "execution_count": null,
   "id": "c9767cdb",
   "metadata": {},
   "outputs": [],
   "source": [
    "psi = (\n",
    "    displace(N, -1) * squeeze(N, 0.75) * basis(N, 0)\n",
    "    - displace(N, 1) * squeeze(N, -0.75) * basis(N, 0)\n",
    ").unit()\n",
    "display(plot_wigner_2d_3d(psi))"
   ]
  },
  {
   "cell_type": "markdown",
   "id": "d6910409",
   "metadata": {},
   "source": [
    "## Versions"
   ]
  },
  {
   "cell_type": "code",
   "execution_count": null,
   "id": "63ac4796",
   "metadata": {},
   "outputs": [],
   "source": [
    "about()"
   ]
  }
 ],
 "metadata": {
  "jupytext": {
   "cell_metadata_filter": "-all",
   "notebook_metadata_filter": "-jupytext.cell_metadata_filter,-jupytext.notebook_metadata_filter"
  },
  "kernelspec": {
   "display_name": "Python 3 (ipykernel)",
   "language": "python",
   "name": "python3"
  }
 },
 "nbformat": 4,
 "nbformat_minor": 5
}
